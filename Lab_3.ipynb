{
  "nbformat": 4,
  "nbformat_minor": 0,
  "metadata": {
    "colab": {
      "provenance": [],
      "authorship_tag": "ABX9TyNncUl+qydD79WYtNC6Vi37",
      "include_colab_link": true
    },
    "kernelspec": {
      "name": "python3",
      "display_name": "Python 3"
    },
    "language_info": {
      "name": "python"
    }
  },
  "cells": [
    {
      "cell_type": "markdown",
      "metadata": {
        "id": "view-in-github",
        "colab_type": "text"
      },
      "source": [
        "<a href=\"https://colab.research.google.com/github/Sehastrajit-clg/Deep-Learning/blob/main/Lab_3.ipynb\" target=\"_parent\"><img src=\"https://colab.research.google.com/assets/colab-badge.svg\" alt=\"Open In Colab\"/></a>"
      ]
    },
    {
      "cell_type": "code",
      "source": [
        "from google.colab import drive\n",
        "drive.mount('/content/gdrive')"
      ],
      "metadata": {
        "colab": {
          "base_uri": "https://localhost:8080/"
        },
        "id": "z1vWz2MrhRd9",
        "outputId": "07cb651c-5ea8-488b-a0de-8fabd87be8a7"
      },
      "execution_count": 22,
      "outputs": [
        {
          "output_type": "stream",
          "name": "stdout",
          "text": [
            "Drive already mounted at /content/gdrive; to attempt to forcibly remount, call drive.mount(\"/content/gdrive\", force_remount=True).\n"
          ]
        }
      ]
    },
    {
      "cell_type": "code",
      "source": [
        "cd /content/gdrive/My Drive/Colab Notebooks"
      ],
      "metadata": {
        "colab": {
          "base_uri": "https://localhost:8080/"
        },
        "id": "PPsGTPRrhbZ7",
        "outputId": "0b78339e-8ca4-477e-ff55-edd2bd48dfe8"
      },
      "execution_count": 24,
      "outputs": [
        {
          "output_type": "stream",
          "name": "stdout",
          "text": [
            "/content/gdrive/My Drive/Colab Notebooks\n"
          ]
        }
      ]
    },
    {
      "cell_type": "code",
      "execution_count": 1,
      "metadata": {
        "id": "Zo5Wl1Upb0V1"
      },
      "outputs": [],
      "source": [
        "import torch\n",
        "from torch import nn"
      ]
    },
    {
      "cell_type": "code",
      "source": [
        "def dropout_layer(x,dropout):\n",
        "  assert 0<= dropout <= 1\n",
        "  if dropout==1: return torch.zeros_like(x)\n",
        "  mask=(torch.rand(X.shape)>dropout).float()\n",
        "  #print(\"mask\",mask)\n",
        "  return mask*X/(1.0-dropout)"
      ],
      "metadata": {
        "id": "LMQpavVLcBqe"
      },
      "execution_count": 12,
      "outputs": []
    },
    {
      "cell_type": "code",
      "source": [
        "X=torch.arange(16,dtype=torch.float32).reshape((2,8))\n",
        "print(X)\n",
        "print('dropout_p=0:',dropout_layer(X,0))\n",
        "print('dropout_p=0.5:',dropout_layer(X,0.5))\n",
        "print('dropout_p=1:',dropout_layer(X,1))"
      ],
      "metadata": {
        "colab": {
          "base_uri": "https://localhost:8080/"
        },
        "id": "PZqAG4wsdKaA",
        "outputId": "9793d980-1e9c-42db-bd70-8280ad4c8811"
      },
      "execution_count": 14,
      "outputs": [
        {
          "output_type": "stream",
          "name": "stdout",
          "text": [
            "tensor([[ 0.,  1.,  2.,  3.,  4.,  5.,  6.,  7.],\n",
            "        [ 8.,  9., 10., 11., 12., 13., 14., 15.]])\n",
            "dropout_p=0: tensor([[ 0.,  1.,  2.,  3.,  4.,  5.,  6.,  7.],\n",
            "        [ 8.,  9., 10., 11., 12., 13., 14., 15.]])\n",
            "dropout_p=0.5: tensor([[ 0.,  0.,  0.,  6.,  0., 10.,  0.,  0.],\n",
            "        [ 0., 18.,  0.,  0.,  0.,  0., 28.,  0.]])\n",
            "dropout_p=1: tensor([[0., 0., 0., 0., 0., 0., 0., 0.],\n",
            "        [0., 0., 0., 0., 0., 0., 0., 0.]])\n"
          ]
        }
      ]
    },
    {
      "cell_type": "code",
      "source": [
        "import pandas as pd\n",
        "import torch\n",
        "import torch.nn as nn\n",
        "import torch.optim as optim\n",
        "from sklearn.preprocessing import LabelEncoder\n",
        "from sklearn.model_selection import StratifiedKFold"
      ],
      "metadata": {
        "id": "D0wFws4AdVvO"
      },
      "execution_count": 15,
      "outputs": []
    },
    {
      "cell_type": "code",
      "source": [
        "#read Data\n",
        "data=pd.read_csv(\"sonar_data.csv\")\n",
        "X=data.iloc[:,1:61]\n",
        "y=data.iloc[:,61]\n",
        "\n",
        "encoder=LabelEncoder()\n",
        "encoder.fit(y)\n",
        "y=encoder.transform(y)\n",
        "\n",
        "\n",
        "X=torch.tensor(X.values,dtype=torch.float32)\n",
        "y=torch.tensor(y,dtype=torch.float32).reshape(-1,1)\n",
        "#print(x)"
      ],
      "metadata": {
        "id": "Qt4Wh-fkgjeR"
      },
      "execution_count": 27,
      "outputs": []
    },
    {
      "cell_type": "code",
      "source": [
        "class SonarModel(nn.Module):\n",
        "  def __intit__(self):\n",
        "    super().__init__()\n",
        "    self.layer = nn.Sequential(\n",
        "        nn.Linear(60,60),\n",
        "        nn.ReLu(),\n",
        "        nn.Linear(60,30),\n",
        "        nn.Sigmoid()\n",
        "    )\n",
        "  def forward(self,x):\n",
        "    probas=self.layers(x)\n",
        "    return probas"
      ],
      "metadata": {
        "id": "6XY-IkjDhdvv"
      },
      "execution_count": 29,
      "outputs": []
    },
    {
      "cell_type": "code",
      "source": [
        "def model_train(model,X_train,y_train,X_val,y_val,n_epoch=300,batch_size=16):\n",
        "  loss_fn=nn.BCELoss()\n",
        "  optimizer=optim.SGD(model.parameters(),lr=0.1,momentum=0.8)\n",
        "  batch_start=torch.arange(0,len(X_train),batch_size)\n",
        "\n",
        "  model_train()\n",
        "  for epoch in range(n_epochs):\n",
        "    for start in batch_start:\n",
        "      X_batch=X_train[start:start+batch_size]\n",
        "      y_batch=y_train[start:start+batch_size]\n",
        "      y_pred=model(X_batch)\n",
        "      loss=loss_fn(y_pred,y_batch)\n",
        "      optimizer.zero_grad()\n",
        "      loss.backward()\n",
        "      optimizer.step()"
      ],
      "metadata": {
        "id": "KZNiD9O1jBpb"
      },
      "execution_count": 30,
      "outputs": []
    }
  ]
}