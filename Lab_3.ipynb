{
  "nbformat": 4,
  "nbformat_minor": 0,
  "metadata": {
    "colab": {
      "provenance": [],
      "authorship_tag": "ABX9TyPzHr9qRMEkFWU3R/Zuur5h",
      "include_colab_link": true
    },
    "kernelspec": {
      "name": "python3",
      "display_name": "Python 3"
    },
    "language_info": {
      "name": "python"
    }
  },
  "cells": [
    {
      "cell_type": "markdown",
      "metadata": {
        "id": "view-in-github",
        "colab_type": "text"
      },
      "source": [
        "<a href=\"https://colab.research.google.com/github/Sehastrajit-clg/Deep-Learning/blob/main/Lab_3.ipynb\" target=\"_parent\"><img src=\"https://colab.research.google.com/assets/colab-badge.svg\" alt=\"Open In Colab\"/></a>"
      ]
    },
    {
      "cell_type": "code",
      "execution_count": 1,
      "metadata": {
        "id": "Zo5Wl1Upb0V1"
      },
      "outputs": [],
      "source": [
        "import torch\n",
        "from torch import nn"
      ]
    },
    {
      "cell_type": "code",
      "source": [
        "def dropout_layer(x,dropout):\n",
        "  assert 0<= dropout <= 1\n",
        "  if dropout==1: return torch.zeros_like(x)\n",
        "  mask=(torch.rand(X.shape)>dropout).float()\n",
        "  #print(\"mask\",mask)\n",
        "  return mask*X/(1.0-dropout)"
      ],
      "metadata": {
        "id": "LMQpavVLcBqe"
      },
      "execution_count": 12,
      "outputs": []
    },
    {
      "cell_type": "code",
      "source": [
        "X=torch.arange(16,dtype=torch.float32).reshape((2,8))\n",
        "print('dropout_p=0:',dropout_layer(X,0))\n",
        "print('dropout_p=0.5:',dropout_layer(X,0.5))\n",
        "print('dropout_p=1:',dropout_layer(X,1))"
      ],
      "metadata": {
        "colab": {
          "base_uri": "https://localhost:8080/"
        },
        "id": "PZqAG4wsdKaA",
        "outputId": "bc68814d-8820-401d-9be1-bf32cf359c9e"
      },
      "execution_count": 13,
      "outputs": [
        {
          "output_type": "stream",
          "name": "stdout",
          "text": [
            "dropout_p=0: tensor([[ 0.,  1.,  2.,  3.,  4.,  5.,  6.,  7.],\n",
            "        [ 8.,  9., 10., 11., 12., 13., 14., 15.]])\n",
            "dropout_p=0.5: tensor([[ 0.,  0.,  0.,  0.,  8.,  0., 12.,  0.],\n",
            "        [16.,  0.,  0.,  0.,  0.,  0., 28., 30.]])\n",
            "dropout_p=1: tensor([[0., 0., 0., 0., 0., 0., 0., 0.],\n",
            "        [0., 0., 0., 0., 0., 0., 0., 0.]])\n"
          ]
        }
      ]
    },
    {
      "cell_type": "code",
      "source": [],
      "metadata": {
        "id": "D0wFws4AdVvO"
      },
      "execution_count": null,
      "outputs": []
    }
  ]
}