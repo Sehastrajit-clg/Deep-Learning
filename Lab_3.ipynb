{
  "nbformat": 4,
  "nbformat_minor": 0,
  "metadata": {
    "colab": {
      "provenance": [],
      "authorship_tag": "ABX9TyPH1ZSN5l8mpuaxAjCSZw3k",
      "include_colab_link": true
    },
    "kernelspec": {
      "name": "python3",
      "display_name": "Python 3"
    },
    "language_info": {
      "name": "python"
    }
  },
  "cells": [
    {
      "cell_type": "markdown",
      "metadata": {
        "id": "view-in-github",
        "colab_type": "text"
      },
      "source": [
        "<a href=\"https://colab.research.google.com/github/Sehastrajit-clg/Deep-Learning/blob/main/Lab_3.ipynb\" target=\"_parent\"><img src=\"https://colab.research.google.com/assets/colab-badge.svg\" alt=\"Open In Colab\"/></a>"
      ]
    },
    {
      "cell_type": "code",
      "source": [
        "from google.colab import drive\n",
        "drive.mount('/content/gdrive')"
      ],
      "metadata": {
        "colab": {
          "base_uri": "https://localhost:8080/"
        },
        "id": "z1vWz2MrhRd9",
        "outputId": "f4f65bb3-d203-4655-9c99-78854210745e"
      },
      "execution_count": 36,
      "outputs": [
        {
          "output_type": "stream",
          "name": "stdout",
          "text": [
            "Drive already mounted at /content/gdrive; to attempt to forcibly remount, call drive.mount(\"/content/gdrive\", force_remount=True).\n"
          ]
        }
      ]
    },
    {
      "cell_type": "code",
      "source": [
        "cd /content/gdrive/My Drive/Colab Notebooks"
      ],
      "metadata": {
        "colab": {
          "base_uri": "https://localhost:8080/"
        },
        "id": "PPsGTPRrhbZ7",
        "outputId": "c8b37db4-4f6d-4d76-bc41-25fcf6b9f257"
      },
      "execution_count": 37,
      "outputs": [
        {
          "output_type": "stream",
          "name": "stdout",
          "text": [
            "/content/gdrive/My Drive/Colab Notebooks\n"
          ]
        }
      ]
    },
    {
      "cell_type": "code",
      "execution_count": 38,
      "metadata": {
        "id": "Zo5Wl1Upb0V1"
      },
      "outputs": [],
      "source": [
        "import torch\n",
        "from torch import nn"
      ]
    },
    {
      "cell_type": "code",
      "source": [
        "def dropout_layer(x,dropout):\n",
        "  assert 0<= dropout <= 1\n",
        "  if dropout==1: return torch.zeros_like(x)\n",
        "  mask=(torch.rand(X.shape)>dropout).float()\n",
        "  #print(\"mask\",mask)\n",
        "  return mask*X/(1.0-dropout)"
      ],
      "metadata": {
        "id": "LMQpavVLcBqe"
      },
      "execution_count": 39,
      "outputs": []
    },
    {
      "cell_type": "code",
      "source": [
        "X=torch.arange(16,dtype=torch.float32).reshape((2,8))\n",
        "print(X)\n",
        "print('dropout_p=0:',dropout_layer(X,0))\n",
        "print('dropout_p=0.5:',dropout_layer(X,0.5))\n",
        "print('dropout_p=1:',dropout_layer(X,1))"
      ],
      "metadata": {
        "colab": {
          "base_uri": "https://localhost:8080/"
        },
        "id": "PZqAG4wsdKaA",
        "outputId": "a767f9a4-c756-4d9e-f0eb-3d414fd99753"
      },
      "execution_count": 40,
      "outputs": [
        {
          "output_type": "stream",
          "name": "stdout",
          "text": [
            "tensor([[ 0.,  1.,  2.,  3.,  4.,  5.,  6.,  7.],\n",
            "        [ 8.,  9., 10., 11., 12., 13., 14., 15.]])\n",
            "dropout_p=0: tensor([[ 0.,  1.,  2.,  3.,  4.,  5.,  6.,  7.],\n",
            "        [ 8.,  9., 10., 11., 12., 13., 14., 15.]])\n",
            "dropout_p=0.5: tensor([[ 0.,  0.,  4.,  0.,  0.,  0., 12., 14.],\n",
            "        [16., 18., 20.,  0., 24.,  0.,  0.,  0.]])\n",
            "dropout_p=1: tensor([[0., 0., 0., 0., 0., 0., 0., 0.],\n",
            "        [0., 0., 0., 0., 0., 0., 0., 0.]])\n"
          ]
        }
      ]
    },
    {
      "cell_type": "code",
      "source": [
        "import pandas as pd\n",
        "import torch\n",
        "import torch.nn as nn\n",
        "import torch.optim as optim\n",
        "from sklearn.preprocessing import LabelEncoder\n",
        "from sklearn.model_selection import StratifiedKFold"
      ],
      "metadata": {
        "id": "D0wFws4AdVvO"
      },
      "execution_count": 41,
      "outputs": []
    },
    {
      "cell_type": "code",
      "source": [
        "#read Data\n",
        "data=pd.read_csv(\"sonar_data.csv\")\n",
        "X=data.iloc[:,1:61]\n",
        "y=data.iloc[:,61]\n",
        "\n",
        "encoder=LabelEncoder()\n",
        "encoder.fit(y)\n",
        "y=encoder.transform(y)\n",
        "\n",
        "\n",
        "X=torch.tensor(X.values,dtype=torch.float32)\n",
        "y=torch.tensor(y,dtype=torch.float32).reshape(-1,1)\n",
        "#print(x)"
      ],
      "metadata": {
        "id": "Qt4Wh-fkgjeR"
      },
      "execution_count": 42,
      "outputs": []
    },
    {
      "cell_type": "code",
      "source": [
        "class SonarModel(nn.Module):\n",
        "  def __init__(self):\n",
        "    super().__init__()\n",
        "    self.layers = nn.Sequential(\n",
        "        nn.Linear(60,60),\n",
        "        nn.ReLU(),\n",
        "        nn.Dropout(0.2),\n",
        "        nn.Linear(60,30),\n",
        "        nn.ReLU(),\n",
        "        nn.Dropout(0.2),\n",
        "        nn.Linear(30,1),\n",
        "        nn.Sigmoid()\n",
        "\n",
        "    )\n",
        "  def forward(self,x):\n",
        "    probas = self.layers(x)\n",
        "    return probas"
      ],
      "metadata": {
        "id": "6XY-IkjDhdvv"
      },
      "execution_count": 53,
      "outputs": []
    },
    {
      "cell_type": "code",
      "source": [
        "def model_train(model, X_train,y_train,X_val,y_val,n_epochs=200,batch_size=16):\n",
        "  loss_fn = nn.BCELoss()\n",
        "  optimizer = optim.Adam(model.parameters(), lr=0.001)\n",
        "  batch_start = torch.arange(0, len(X_train), batch_size)\n",
        "\n",
        "  model.train()\n",
        "  for epoch in range(n_epochs):\n",
        "      for start in batch_start:\n",
        "          X_batch = X_train[start:start+batch_size]\n",
        "          y_batch = y_train[start:start+batch_size]\n",
        "          y_pred = model(X_batch)\n",
        "          loss = loss_fn(y_pred, y_batch)\n",
        "          optimizer.zero_grad()\n",
        "          loss.backward()\n",
        "          optimizer.step()\n",
        "  model.eval()\n",
        "  y_pred = model(X_val)\n",
        "  acc = (y_pred.round() == y_val).float().mean()\n",
        "  acc = float(acc)\n",
        "  return acc\n"
      ],
      "metadata": {
        "id": "KZNiD9O1jBpb"
      },
      "execution_count": 54,
      "outputs": []
    },
    {
      "cell_type": "code",
      "source": [
        "import numpy as np"
      ],
      "metadata": {
        "id": "UqNhOCZNvRk5"
      },
      "execution_count": 56,
      "outputs": []
    },
    {
      "cell_type": "code",
      "source": [
        "kfold = StratifiedKFold(n_splits=10,shuffle=True)\n",
        "accuracies=[]\n",
        "for train,test in kfold.split(X,y):\n",
        "  model=SonarModel()\n",
        "  acc=model_train(model,X[train],y[train],X[test],y[test])\n",
        "  print(\"Accuracy: %.2f\"%acc)\n",
        "  accuracies.append(acc)"
      ],
      "metadata": {
        "id": "_Mn7AZtMlnvW",
        "colab": {
          "base_uri": "https://localhost:8080/"
        },
        "outputId": "050dfe51-8cf2-4d8f-eccf-891e34e2aeab"
      },
      "execution_count": 58,
      "outputs": [
        {
          "output_type": "stream",
          "name": "stdout",
          "text": [
            "Accuracy: 0.90\n",
            "Accuracy: 0.95\n",
            "Accuracy: 0.95\n",
            "Accuracy: 0.86\n",
            "Accuracy: 0.81\n",
            "Accuracy: 0.71\n",
            "Accuracy: 0.76\n",
            "Accuracy: 0.86\n",
            "Accuracy: 0.90\n",
            "Accuracy: 0.85\n"
          ]
        }
      ]
    },
    {
      "cell_type": "code",
      "source": [
        "mean = np.mean(accuracies)\n",
        "std = np.std(accuracies)\n",
        "print(\"Baseline: %.2f%% (+/- %.2f%%)\" % (mean*100, std*100))"
      ],
      "metadata": {
        "colab": {
          "base_uri": "https://localhost:8080/"
        },
        "id": "DmWkcACwvyxl",
        "outputId": "20fd0bb1-fe8a-410e-d743-9a36f7636e8e"
      },
      "execution_count": 59,
      "outputs": [
        {
          "output_type": "stream",
          "name": "stdout",
          "text": [
            "Baseline: 85.60% (+/- 7.35%)\n"
          ]
        }
      ]
    }
  ]
}