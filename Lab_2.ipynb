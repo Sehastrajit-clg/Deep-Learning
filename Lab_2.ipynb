{
  "nbformat": 4,
  "nbformat_minor": 0,
  "metadata": {
    "colab": {
      "provenance": [],
      "authorship_tag": "ABX9TyMnvIxOrxlrId3xzndgBPrt",
      "include_colab_link": true
    },
    "kernelspec": {
      "name": "python3",
      "display_name": "Python 3"
    },
    "language_info": {
      "name": "python"
    }
  },
  "cells": [
    {
      "cell_type": "markdown",
      "metadata": {
        "id": "view-in-github",
        "colab_type": "text"
      },
      "source": [
        "<a href=\"https://colab.research.google.com/github/Sehastrajit-clg/Deep-Learning/blob/main/Lab_2.ipynb\" target=\"_parent\"><img src=\"https://colab.research.google.com/assets/colab-badge.svg\" alt=\"Open In Colab\"/></a>"
      ]
    },
    {
      "cell_type": "code",
      "source": [
        "from google.colab import drive\n",
        "drive.mount('/content/gdrive')"
      ],
      "metadata": {
        "colab": {
          "base_uri": "https://localhost:8080/"
        },
        "id": "K7kS_tHmco9x",
        "outputId": "d694bfcc-c15a-48c5-a630-f94687ccca72"
      },
      "execution_count": null,
      "outputs": [
        {
          "output_type": "stream",
          "name": "stdout",
          "text": [
            "Mounted at /content/gdrive\n"
          ]
        }
      ]
    },
    {
      "cell_type": "code",
      "source": [
        "cd /content/gdrive/My Drive/Colab Notebooks"
      ],
      "metadata": {
        "colab": {
          "base_uri": "https://localhost:8080/"
        },
        "id": "KEEkgojbctg6",
        "outputId": "2bb74d90-cf8c-48bf-da19-0dafd2bf4f6a"
      },
      "execution_count": null,
      "outputs": [
        {
          "output_type": "stream",
          "name": "stdout",
          "text": [
            "/content/gdrive/My Drive/Colab Notebooks\n"
          ]
        }
      ]
    },
    {
      "cell_type": "code",
      "execution_count": null,
      "metadata": {
        "id": "I87DA-EQaMi2"
      },
      "outputs": [],
      "source": [
        "import pandas as pd\n",
        "import numpy as np\n",
        "import matplotlib.pyplot as plt\n",
        "import torch\n",
        "import torch.nn as nnUntitled\n",
        "import torch.nn.functional as F"
      ]
    },
    {
      "cell_type": "code",
      "source": [
        "df = pd.read_csv('perceptron_sampledata.csv')"
      ],
      "metadata": {
        "id": "Dk6XapDGahzG"
      },
      "execution_count": null,
      "outputs": []
    },
    {
      "cell_type": "code",
      "source": [
        "X=df.drop('label',axis=1).values\n",
        "y=df['label'].values"
      ],
      "metadata": {
        "id": "dbRH0xmybckb"
      },
      "execution_count": null,
      "outputs": []
    },
    {
      "cell_type": "code",
      "source": [
        "X"
      ],
      "metadata": {
        "colab": {
          "base_uri": "https://localhost:8080/"
        },
        "id": "1MFQcTIQbnps",
        "outputId": "e1c92b83-fccd-4497-cbec-61ecdef5103b"
      },
      "execution_count": null,
      "outputs": [
        {
          "output_type": "execute_result",
          "data": {
            "text/plain": [
              "array([[ 0.77, -1.14],\n",
              "       [-0.33,  1.44],\n",
              "       [ 0.91, -3.07],\n",
              "       [-0.37, -1.91],\n",
              "       [-0.63, -1.53],\n",
              "       [ 0.39, -1.99],\n",
              "       [-0.49, -2.74],\n",
              "       [-0.68, -1.52],\n",
              "       [-0.1 , -3.43],\n",
              "       [-0.05, -1.95],\n",
              "       [ 3.88,  0.65],\n",
              "       [ 0.73,  2.97],\n",
              "       [ 0.83,  3.94],\n",
              "       [ 1.59,  1.25],\n",
              "       [ 1.14,  3.91],\n",
              "       [ 1.73,  2.8 ],\n",
              "       [ 1.31,  1.85],\n",
              "       [ 1.56,  3.85],\n",
              "       [ 1.23,  2.54],\n",
              "       [ 1.33,  2.03]])"
            ]
          },
          "metadata": {},
          "execution_count": 15
        }
      ]
    },
    {
      "cell_type": "code",
      "source": [
        "y"
      ],
      "metadata": {
        "colab": {
          "base_uri": "https://localhost:8080/"
        },
        "id": "Cuq5JBvSb3WS",
        "outputId": "be8b2cbc-26ba-4fbc-b601-114a1993c0ec"
      },
      "execution_count": null,
      "outputs": [
        {
          "output_type": "execute_result",
          "data": {
            "text/plain": [
              "array([0, 0, 0, 0, 0, 0, 0, 0, 0, 0, 1, 1, 1, 1, 1, 1, 1, 1, 1, 1])"
            ]
          },
          "metadata": {},
          "execution_count": 16
        }
      ]
    },
    {
      "cell_type": "code",
      "source": [
        "from sklearn.model_selection import train_test_split\n",
        "X_train,X_test,y_train,y_test =train_test_split(X,y,test_size=0.8)"
      ],
      "metadata": {
        "id": "pg-SPjaAb8DD"
      },
      "execution_count": null,
      "outputs": []
    },
    {
      "cell_type": "code",
      "source": [
        "X_train"
      ],
      "metadata": {
        "colab": {
          "base_uri": "https://localhost:8080/"
        },
        "id": "Pngrlffnc9NV",
        "outputId": "e504d50b-8f99-4767-8091-d87c885bc1bd"
      },
      "execution_count": null,
      "outputs": [
        {
          "output_type": "execute_result",
          "data": {
            "text/plain": [
              "tensor([[-0.3300,  1.4400],\n",
              "        [ 0.8300,  3.9400],\n",
              "        [ 1.3100,  1.8500],\n",
              "        [ 0.7700, -1.1400]])"
            ]
          },
          "metadata": {},
          "execution_count": 19
        }
      ]
    },
    {
      "cell_type": "code",
      "source": [
        "y_train"
      ],
      "metadata": {
        "colab": {
          "base_uri": "https://localhost:8080/"
        },
        "id": "l3JkdDPBc-xE",
        "outputId": "beff1e07-28ea-440b-9a62-7c624875f5df"
      },
      "execution_count": null,
      "outputs": [
        {
          "output_type": "execute_result",
          "data": {
            "text/plain": [
              "tensor([0., 1., 1., 0.])"
            ]
          },
          "metadata": {},
          "execution_count": 20
        }
      ]
    },
    {
      "cell_type": "code",
      "source": [
        "X_train = torch.FloatTensor(X_train)\n",
        "X_test = torch.FloatTensor(X_test)\n",
        "y_train = torch.FloatTensor(y_train)\n",
        "y_test = torch.FloatTensor(y_test)"
      ],
      "metadata": {
        "id": "QW9CzuLvcUU8"
      },
      "execution_count": null,
      "outputs": []
    },
    {
      "cell_type": "code",
      "source": [
        "class AND_Model(nn.Module):\n",
        "  def __init__(self, input_features=2, hidden1=2, hidden2=2, out_features=2):\n",
        "    super(AND_Model, self).__init__()\n",
        "    self.Layer1 = nn.Linear(input_features, hidden1)\n",
        "    self.Layer2 = nn.Linear(hidden1, hidden2)\n",
        "    self.out = nn.Linear(hidden2, out_features)\n",
        "\n",
        "  def forward(self, x):\n",
        "    x = F.tanh(self.Layer1(x))\n",
        "    y = F.tanh(self.Layer2(x))\n",
        "    x = self.out(x)\n",
        "    return x\n"
      ],
      "metadata": {
        "id": "XuZDmzpAdCBY"
      },
      "execution_count": 61,
      "outputs": []
    },
    {
      "cell_type": "code",
      "source": [
        "torch.manual_seed(3)\n",
        "model= AND_Model()"
      ],
      "metadata": {
        "id": "fDhBdu2BePwd"
      },
      "execution_count": 62,
      "outputs": []
    },
    {
      "cell_type": "code",
      "source": [
        "model.parameters"
      ],
      "metadata": {
        "colab": {
          "base_uri": "https://localhost:8080/"
        },
        "id": "5Wb5lB7if6MP",
        "outputId": "e9ddd2e2-25ec-4e51-942b-57d14e07e701"
      },
      "execution_count": 63,
      "outputs": [
        {
          "output_type": "execute_result",
          "data": {
            "text/plain": [
              "<bound method Module.parameters of AND_Model(\n",
              "  (Layer1): Linear(in_features=2, out_features=2, bias=True)\n",
              "  (Layer2): Linear(in_features=2, out_features=2, bias=True)\n",
              "  (out): Linear(in_features=2, out_features=2, bias=True)\n",
              ")>"
            ]
          },
          "metadata": {},
          "execution_count": 63
        }
      ]
    },
    {
      "cell_type": "code",
      "source": [
        "###backward propagation\n",
        "loss_function=nn.CrossEntropyLoss()\n",
        "optimizer=torch.optim.ASGD(model.parameters(),lr=0.01)"
      ],
      "metadata": {
        "id": "FExOrQeugEkt"
      },
      "execution_count": 80,
      "outputs": []
    },
    {
      "cell_type": "code",
      "source": [
        "epochs = 200\n",
        "final_losses = []\n",
        "for i in range(epochs):\n",
        "  i = i + 1\n",
        "  y_pred = model.forward(X_train)\n",
        "  # Convert y_train to Long data type\n",
        "  y_train_long = y_train.long()\n",
        "  loss = loss_function(y_pred, y_train_long)\n",
        "  final_losses.append(loss.item())\n",
        "  print(\"Epochs {} and the loss: {}\".format(i, loss.item()))\n",
        "  optimizer.zero_grad()\n",
        "  loss.backward()\n",
        "  optimizer.step()\n"
      ],
      "metadata": {
        "colab": {
          "base_uri": "https://localhost:8080/"
        },
        "id": "iM2mB951m5tB",
        "outputId": "b7cae276-b4c9-478e-fb8c-0c087a691943"
      },
      "execution_count": 81,
      "outputs": [
        {
          "output_type": "stream",
          "name": "stdout",
          "text": [
            "Epochs 1 and the loss: 0.6459305286407471\n",
            "Epochs 2 and the loss: 0.645149290561676\n",
            "Epochs 3 and the loss: 0.6443672180175781\n",
            "Epochs 4 and the loss: 0.6435844898223877\n",
            "Epochs 5 and the loss: 0.6428007483482361\n",
            "Epochs 6 and the loss: 0.6420161724090576\n",
            "Epochs 7 and the loss: 0.6412308812141418\n",
            "Epochs 8 and the loss: 0.6404446363449097\n",
            "Epochs 9 and the loss: 0.6396574378013611\n",
            "Epochs 10 and the loss: 0.6388694047927856\n",
            "Epochs 11 and the loss: 0.6380804777145386\n",
            "Epochs 12 and the loss: 0.6372905969619751\n",
            "Epochs 13 and the loss: 0.6364997625350952\n",
            "Epochs 14 and the loss: 0.6357079744338989\n",
            "Epochs 15 and the loss: 0.6349152326583862\n",
            "Epochs 16 and the loss: 0.6341215372085571\n",
            "Epochs 17 and the loss: 0.6333268880844116\n",
            "Epochs 18 and the loss: 0.6325311660766602\n",
            "Epochs 19 and the loss: 0.6317344903945923\n",
            "Epochs 20 and the loss: 0.630936861038208\n",
            "Epochs 21 and the loss: 0.630138099193573\n",
            "Epochs 22 and the loss: 0.629338264465332\n",
            "Epochs 23 and the loss: 0.6285375356674194\n",
            "Epochs 24 and the loss: 0.6277356147766113\n",
            "Epochs 25 and the loss: 0.6269326210021973\n",
            "Epochs 26 and the loss: 0.6261285543441772\n",
            "Epochs 27 and the loss: 0.6253234148025513\n",
            "Epochs 28 and the loss: 0.6245171427726746\n",
            "Epochs 29 and the loss: 0.6237097978591919\n",
            "Epochs 30 and the loss: 0.6229013204574585\n",
            "Epochs 31 and the loss: 0.6220916509628296\n",
            "Epochs 32 and the loss: 0.6212809085845947\n",
            "Epochs 33 and the loss: 0.6204689741134644\n",
            "Epochs 34 and the loss: 0.6196559071540833\n",
            "Epochs 35 and the loss: 0.6188415884971619\n",
            "Epochs 36 and the loss: 0.6180261373519897\n",
            "Epochs 37 and the loss: 0.6172095537185669\n",
            "Epochs 38 and the loss: 0.6163917183876038\n",
            "Epochs 39 and the loss: 0.6155725717544556\n",
            "Epochs 40 and the loss: 0.6147524118423462\n",
            "Epochs 41 and the loss: 0.6139308214187622\n",
            "Epochs 42 and the loss: 0.6131080985069275\n",
            "Epochs 43 and the loss: 0.6122841238975525\n",
            "Epochs 44 and the loss: 0.6114588975906372\n",
            "Epochs 45 and the loss: 0.6106323599815369\n",
            "Epochs 46 and the loss: 0.609804630279541\n",
            "Epochs 47 and the loss: 0.6089755296707153\n",
            "Epochs 48 and the loss: 0.6081452369689941\n",
            "Epochs 49 and the loss: 0.6073135137557983\n",
            "Epochs 50 and the loss: 0.6064805388450623\n",
            "Epochs 51 and the loss: 0.6056463122367859\n",
            "Epochs 52 and the loss: 0.6048107743263245\n",
            "Epochs 53 and the loss: 0.6039738059043884\n",
            "Epochs 54 and the loss: 0.6031355261802673\n",
            "Epochs 55 and the loss: 0.6022958755493164\n",
            "Epochs 56 and the loss: 0.6014549732208252\n",
            "Epochs 57 and the loss: 0.6006126403808594\n",
            "Epochs 58 and the loss: 0.5997689962387085\n",
            "Epochs 59 and the loss: 0.598923921585083\n",
            "Epochs 60 and the loss: 0.5980774760246277\n",
            "Epochs 61 and the loss: 0.5972295999526978\n",
            "Epochs 62 and the loss: 0.596380352973938\n",
            "Epochs 63 and the loss: 0.5955297946929932\n",
            "Epochs 64 and the loss: 0.594677746295929\n",
            "Epochs 65 and the loss: 0.5938242673873901\n",
            "Epochs 66 and the loss: 0.5929693579673767\n",
            "Epochs 67 and the loss: 0.5921130180358887\n",
            "Epochs 68 and the loss: 0.5912553071975708\n",
            "Epochs 69 and the loss: 0.5903961062431335\n",
            "Epochs 70 and the loss: 0.5895354151725769\n",
            "Epochs 71 and the loss: 0.5886733531951904\n",
            "Epochs 72 and the loss: 0.5878098011016846\n",
            "Epochs 73 and the loss: 0.5869447588920593\n",
            "Epochs 74 and the loss: 0.5860782265663147\n",
            "Epochs 75 and the loss: 0.5852103233337402\n",
            "Epochs 76 and the loss: 0.5843408107757568\n",
            "Epochs 77 and the loss: 0.5834698677062988\n",
            "Epochs 78 and the loss: 0.5825973749160767\n",
            "Epochs 79 and the loss: 0.5817233920097351\n",
            "Epochs 80 and the loss: 0.580847978591919\n",
            "Epochs 81 and the loss: 0.5799710154533386\n",
            "Epochs 82 and the loss: 0.5790925025939941\n",
            "Epochs 83 and the loss: 0.5782124996185303\n",
            "Epochs 84 and the loss: 0.5773309469223022\n",
            "Epochs 85 and the loss: 0.5764479041099548\n",
            "Epochs 86 and the loss: 0.5755633115768433\n",
            "Epochs 87 and the loss: 0.5746771693229675\n",
            "Epochs 88 and the loss: 0.5737894773483276\n",
            "Epochs 89 and the loss: 0.5729002356529236\n",
            "Epochs 90 and the loss: 0.5720094442367554\n",
            "Epochs 91 and the loss: 0.5711171627044678\n",
            "Epochs 92 and the loss: 0.5702232122421265\n",
            "Epochs 93 and the loss: 0.5693277716636658\n",
            "Epochs 94 and the loss: 0.5684307813644409\n",
            "Epochs 95 and the loss: 0.5675321221351624\n",
            "Epochs 96 and the loss: 0.5666319727897644\n",
            "Epochs 97 and the loss: 0.5657302141189575\n",
            "Epochs 98 and the loss: 0.5648269057273865\n",
            "Epochs 99 and the loss: 0.5639219880104065\n",
            "Epochs 100 and the loss: 0.5630154609680176\n",
            "Epochs 101 and the loss: 0.5621073842048645\n",
            "Epochs 102 and the loss: 0.5611977577209473\n",
            "Epochs 103 and the loss: 0.5602865219116211\n",
            "Epochs 104 and the loss: 0.559373676776886\n",
            "Epochs 105 and the loss: 0.5584592223167419\n",
            "Epochs 106 and the loss: 0.557543158531189\n",
            "Epochs 107 and the loss: 0.5566255450248718\n",
            "Epochs 108 and the loss: 0.555706262588501\n",
            "Epochs 109 and the loss: 0.5547854900360107\n",
            "Epochs 110 and the loss: 0.5538630485534668\n",
            "Epochs 111 and the loss: 0.5529389977455139\n",
            "Epochs 112 and the loss: 0.5520133972167969\n",
            "Epochs 113 and the loss: 0.5510861277580261\n",
            "Epochs 114 and the loss: 0.5501573085784912\n",
            "Epochs 115 and the loss: 0.5492269396781921\n",
            "Epochs 116 and the loss: 0.5482949018478394\n",
            "Epochs 117 and the loss: 0.5473612546920776\n",
            "Epochs 118 and the loss: 0.5464260578155518\n",
            "Epochs 119 and the loss: 0.5454892516136169\n",
            "Epochs 120 and the loss: 0.544550895690918\n",
            "Epochs 121 and the loss: 0.5436109304428101\n",
            "Epochs 122 and the loss: 0.5426692962646484\n",
            "Epochs 123 and the loss: 0.5417261719703674\n",
            "Epochs 124 and the loss: 0.5407814979553223\n",
            "Epochs 125 and the loss: 0.5398351550102234\n",
            "Epochs 126 and the loss: 0.5388872623443604\n",
            "Epochs 127 and the loss: 0.5379378795623779\n",
            "Epochs 128 and the loss: 0.5369868278503418\n",
            "Epochs 129 and the loss: 0.5360342264175415\n",
            "Epochs 130 and the loss: 0.535080075263977\n",
            "Epochs 131 and the loss: 0.5341243743896484\n",
            "Epochs 132 and the loss: 0.5331671237945557\n",
            "Epochs 133 and the loss: 0.5322084426879883\n",
            "Epochs 134 and the loss: 0.5312480926513672\n",
            "Epochs 135 and the loss: 0.5302861928939819\n",
            "Epochs 136 and the loss: 0.5293228626251221\n",
            "Epochs 137 and the loss: 0.528357982635498\n",
            "Epochs 138 and the loss: 0.5273916125297546\n",
            "Epochs 139 and the loss: 0.5264236330986023\n",
            "Epochs 140 and the loss: 0.5254542231559753\n",
            "Epochs 141 and the loss: 0.5244834423065186\n",
            "Epochs 142 and the loss: 0.5235110521316528\n",
            "Epochs 143 and the loss: 0.5225372314453125\n",
            "Epochs 144 and the loss: 0.5215619802474976\n",
            "Epochs 145 and the loss: 0.520585298538208\n",
            "Epochs 146 and the loss: 0.5196070671081543\n",
            "Epochs 147 and the loss: 0.5186275243759155\n",
            "Epochs 148 and the loss: 0.5176465511322021\n",
            "Epochs 149 and the loss: 0.5166641473770142\n",
            "Epochs 150 and the loss: 0.5156804323196411\n",
            "Epochs 151 and the loss: 0.5146951675415039\n",
            "Epochs 152 and the loss: 0.5137086510658264\n",
            "Epochs 153 and the loss: 0.5127207636833191\n",
            "Epochs 154 and the loss: 0.5117315053939819\n",
            "Epochs 155 and the loss: 0.5107408761978149\n",
            "Epochs 156 and the loss: 0.5097490549087524\n",
            "Epochs 157 and the loss: 0.5087558627128601\n",
            "Epochs 158 and the loss: 0.5077614188194275\n",
            "Epochs 159 and the loss: 0.5067656636238098\n",
            "Epochs 160 and the loss: 0.5057686567306519\n",
            "Epochs 161 and the loss: 0.5047704577445984\n",
            "Epochs 162 and the loss: 0.5037710070610046\n",
            "Epochs 163 and the loss: 0.5027703642845154\n",
            "Epochs 164 and the loss: 0.5017684698104858\n",
            "Epochs 165 and the loss: 0.5007654428482056\n",
            "Epochs 166 and the loss: 0.49976134300231934\n",
            "Epochs 167 and the loss: 0.4987560510635376\n",
            "Epochs 168 and the loss: 0.4977496862411499\n",
            "Epochs 169 and the loss: 0.4967421293258667\n",
            "Epochs 170 and the loss: 0.4957335591316223\n",
            "Epochs 171 and the loss: 0.494723916053772\n",
            "Epochs 172 and the loss: 0.49371325969696045\n",
            "Epochs 173 and the loss: 0.49270159006118774\n",
            "Epochs 174 and the loss: 0.49168893694877625\n",
            "Epochs 175 and the loss: 0.49067530035972595\n",
            "Epochs 176 and the loss: 0.48966071009635925\n",
            "Epochs 177 and the loss: 0.4886452257633209\n",
            "Epochs 178 and the loss: 0.4876288175582886\n",
            "Epochs 179 and the loss: 0.48661157488822937\n",
            "Epochs 180 and the loss: 0.4855934679508209\n",
            "Epochs 181 and the loss: 0.4845745265483856\n",
            "Epochs 182 and the loss: 0.48355478048324585\n",
            "Epochs 183 and the loss: 0.48253417015075684\n",
            "Epochs 184 and the loss: 0.4815129339694977\n",
            "Epochs 185 and the loss: 0.48049092292785645\n",
            "Epochs 186 and the loss: 0.4794681668281555\n",
            "Epochs 187 and the loss: 0.47844481468200684\n",
            "Epochs 188 and the loss: 0.47742074728012085\n",
            "Epochs 189 and the loss: 0.4763960838317871\n",
            "Epochs 190 and the loss: 0.4753708243370056\n",
            "Epochs 191 and the loss: 0.47434496879577637\n",
            "Epochs 192 and the loss: 0.47331860661506653\n",
            "Epochs 193 and the loss: 0.4722917079925537\n",
            "Epochs 194 and the loss: 0.4712643623352051\n",
            "Epochs 195 and the loss: 0.47023656964302063\n",
            "Epochs 196 and the loss: 0.46920835971832275\n",
            "Epochs 197 and the loss: 0.46817970275878906\n",
            "Epochs 198 and the loss: 0.4671507477760315\n",
            "Epochs 199 and the loss: 0.4661213755607605\n",
            "Epochs 200 and the loss: 0.465091735124588\n"
          ]
        }
      ]
    },
    {
      "cell_type": "code",
      "source": [
        "plt.plot(range(epochs),final_losses)\n",
        "plt.ylabel('Loss')\n",
        "plt.xlabel('Epoch')"
      ],
      "metadata": {
        "colab": {
          "base_uri": "https://localhost:8080/",
          "height": 466
        },
        "id": "meQl5QvwhUY1",
        "outputId": "347ee16c-7e45-4e17-ee31-d26f2cc006b8"
      },
      "execution_count": 82,
      "outputs": [
        {
          "output_type": "execute_result",
          "data": {
            "text/plain": [
              "Text(0.5, 0, 'Epoch')"
            ]
          },
          "metadata": {},
          "execution_count": 82
        },
        {
          "output_type": "display_data",
          "data": {
            "text/plain": [
              "<Figure size 640x480 with 1 Axes>"
            ],
            "image/png": "[encoded data removed]"
          },
          "metadata": {}
        }
      ]
    },
    {
      "cell_type": "code",
      "source": [
        "predictions=[]\n",
        "with torch.no_grad():\n",
        "  for i,data in enumerate(X_test):\n",
        ""
      ],
      "metadata": {
        "id": "83JM7h_bk-uT"
      },
      "execution_count": null,
      "outputs": []
    }
  ]
}