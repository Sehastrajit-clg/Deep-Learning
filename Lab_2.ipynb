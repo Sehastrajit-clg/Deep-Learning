{
  "nbformat": 4,
  "nbformat_minor": 0,
  "metadata": {
    "colab": {
      "provenance": [],
      "authorship_tag": "ABX9TyNa7L1/YuCy5yCyw4ix4OND",
      "include_colab_link": true
    },
    "kernelspec": {
      "name": "python3",
      "display_name": "Python 3"
    },
    "language_info": {
      "name": "python"
    }
  },
  "cells": [
    {
      "cell_type": "markdown",
      "metadata": {
        "id": "view-in-github",
        "colab_type": "text"
      },
      "source": [
        "<a href=\"https://colab.research.google.com/github/Sehastrajit-clg/Deep-Learning/blob/main/Lab_2.ipynb\" target=\"_parent\"><img src=\"https://colab.research.google.com/assets/colab-badge.svg\" alt=\"Open In Colab\"/></a>"
      ]
    },
    {
      "cell_type": "code",
      "source": [
        "from google.colab import drive\n",
        "drive.mount('/content/gdrive')"
      ],
      "metadata": {
        "colab": {
          "base_uri": "https://localhost:8080/"
        },
        "id": "K7kS_tHmco9x",
        "outputId": "d694bfcc-c15a-48c5-a630-f94687ccca72"
      },
      "execution_count": 8,
      "outputs": [
        {
          "output_type": "stream",
          "name": "stdout",
          "text": [
            "Mounted at /content/gdrive\n"
          ]
        }
      ]
    },
    {
      "cell_type": "code",
      "source": [
        "cd /content/gdrive/My Drive/Colab Notebooks"
      ],
      "metadata": {
        "colab": {
          "base_uri": "https://localhost:8080/"
        },
        "id": "KEEkgojbctg6",
        "outputId": "2bb74d90-cf8c-48bf-da19-0dafd2bf4f6a"
      },
      "execution_count": 9,
      "outputs": [
        {
          "output_type": "stream",
          "name": "stdout",
          "text": [
            "/content/gdrive/My Drive/Colab Notebooks\n"
          ]
        }
      ]
    },
    {
      "cell_type": "code",
      "execution_count": 10,
      "metadata": {
        "id": "I87DA-EQaMi2"
      },
      "outputs": [],
      "source": [
        "import pandas as pd\n",
        "import numpy as np\n",
        "import matplotlib.pyplot as plt\n",
        "import torch\n",
        "import torch.nn as nnUntitled\n",
        "import torch.nn.functional as F"
      ]
    },
    {
      "cell_type": "code",
      "source": [
        "df = pd.read_csv('perceptron_sampledata.csv')"
      ],
      "metadata": {
        "id": "Dk6XapDGahzG"
      },
      "execution_count": 12,
      "outputs": []
    },
    {
      "cell_type": "code",
      "source": [
        "X=df.drop('label',axis=1).values\n",
        "y=df['label'].values"
      ],
      "metadata": {
        "id": "dbRH0xmybckb"
      },
      "execution_count": 13,
      "outputs": []
    },
    {
      "cell_type": "code",
      "source": [
        "X"
      ],
      "metadata": {
        "colab": {
          "base_uri": "https://localhost:8080/"
        },
        "id": "1MFQcTIQbnps",
        "outputId": "e1c92b83-fccd-4497-cbec-61ecdef5103b"
      },
      "execution_count": 15,
      "outputs": [
        {
          "output_type": "execute_result",
          "data": {
            "text/plain": [
              "array([[ 0.77, -1.14],\n",
              "       [-0.33,  1.44],\n",
              "       [ 0.91, -3.07],\n",
              "       [-0.37, -1.91],\n",
              "       [-0.63, -1.53],\n",
              "       [ 0.39, -1.99],\n",
              "       [-0.49, -2.74],\n",
              "       [-0.68, -1.52],\n",
              "       [-0.1 , -3.43],\n",
              "       [-0.05, -1.95],\n",
              "       [ 3.88,  0.65],\n",
              "       [ 0.73,  2.97],\n",
              "       [ 0.83,  3.94],\n",
              "       [ 1.59,  1.25],\n",
              "       [ 1.14,  3.91],\n",
              "       [ 1.73,  2.8 ],\n",
              "       [ 1.31,  1.85],\n",
              "       [ 1.56,  3.85],\n",
              "       [ 1.23,  2.54],\n",
              "       [ 1.33,  2.03]])"
            ]
          },
          "metadata": {},
          "execution_count": 15
        }
      ]
    },
    {
      "cell_type": "code",
      "source": [
        "y"
      ],
      "metadata": {
        "colab": {
          "base_uri": "https://localhost:8080/"
        },
        "id": "Cuq5JBvSb3WS",
        "outputId": "be8b2cbc-26ba-4fbc-b601-114a1993c0ec"
      },
      "execution_count": 16,
      "outputs": [
        {
          "output_type": "execute_result",
          "data": {
            "text/plain": [
              "array([0, 0, 0, 0, 0, 0, 0, 0, 0, 0, 1, 1, 1, 1, 1, 1, 1, 1, 1, 1])"
            ]
          },
          "metadata": {},
          "execution_count": 16
        }
      ]
    },
    {
      "cell_type": "code",
      "source": [
        "from sklearn.model_selection import train_test_split\n",
        "X_train,X_test,y_train,y_test =train_test_split(X,y,test_size=0.8)"
      ],
      "metadata": {
        "id": "pg-SPjaAb8DD"
      },
      "execution_count": 17,
      "outputs": []
    },
    {
      "cell_type": "code",
      "source": [
        "X_train"
      ],
      "metadata": {
        "colab": {
          "base_uri": "https://localhost:8080/"
        },
        "id": "Pngrlffnc9NV",
        "outputId": "e504d50b-8f99-4767-8091-d87c885bc1bd"
      },
      "execution_count": 19,
      "outputs": [
        {
          "output_type": "execute_result",
          "data": {
            "text/plain": [
              "tensor([[-0.3300,  1.4400],\n",
              "        [ 0.8300,  3.9400],\n",
              "        [ 1.3100,  1.8500],\n",
              "        [ 0.7700, -1.1400]])"
            ]
          },
          "metadata": {},
          "execution_count": 19
        }
      ]
    },
    {
      "cell_type": "code",
      "source": [
        "y_train"
      ],
      "metadata": {
        "colab": {
          "base_uri": "https://localhost:8080/"
        },
        "id": "l3JkdDPBc-xE",
        "outputId": "beff1e07-28ea-440b-9a62-7c624875f5df"
      },
      "execution_count": 20,
      "outputs": [
        {
          "output_type": "execute_result",
          "data": {
            "text/plain": [
              "tensor([0., 1., 1., 0.])"
            ]
          },
          "metadata": {},
          "execution_count": 20
        }
      ]
    },
    {
      "cell_type": "code",
      "source": [
        "X_train = torch.FloatTensor(X_train)\n",
        "X_test = torch.FloatTensor(X_test)\n",
        "y_train = torch.FloatTensor(y_train)\n",
        "y_test = torch.FloatTensor(y_test)"
      ],
      "metadata": {
        "id": "QW9CzuLvcUU8"
      },
      "execution_count": 18,
      "outputs": []
    },
    {
      "cell_type": "code",
      "source": [
        "class AND_Model(nn.Module):\n",
        "  def __init__(self,input_features=2,hidden1=2,hidden2=2,out_features=2):\n",
        "    super.__init__()\n",
        "    self.Layer1=nn.Linear(input_features,hidden1)\n",
        "    self.Layer2=nn.Linear(hidden1,hidden2)\n",
        "    self.out=nn.Linear(hidden2,out_features)\n",
        "  def forward(self,x):\n",
        "    x=F.tanh(self.Layer1(x))\n",
        "    y=F.tanh(self.Layer2(x))\n",
        "    x=self.out(x)\n",
        "    return x"
      ],
      "metadata": {
        "id": "XuZDmzpAdCBY"
      },
      "execution_count": 23,
      "outputs": []
    },
    {
      "cell_type": "code",
      "source": [
        "torch.manual_seed(3)\n",
        "model=ANN_Model()"
      ],
      "metadata": {
        "id": "fDhBdu2BePwd"
      },
      "execution_count": null,
      "outputs": []
    }
  ]
}