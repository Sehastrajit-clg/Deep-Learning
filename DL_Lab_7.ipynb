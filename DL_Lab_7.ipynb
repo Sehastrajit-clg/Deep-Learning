{
  "nbformat": 4,
  "nbformat_minor": 0,
  "metadata": {
    "colab": {
      "provenance": [],
      "authorship_tag": "ABX9TyN700uDoyhoxIKCc6BZWMgx",
      "include_colab_link": true
    },
    "kernelspec": {
      "name": "python3",
      "display_name": "Python 3"
    },
    "language_info": {
      "name": "python"
    }
  },
  "cells": [
    {
      "cell_type": "markdown",
      "metadata": {
        "id": "view-in-github",
        "colab_type": "text"
      },
      "source": [
        "<a href=\"https://colab.research.google.com/github/Sehastrajit-clg/Deep-Learning/blob/main/DL_Lab_7.ipynb\" target=\"_parent\"><img src=\"https://colab.research.google.com/assets/colab-badge.svg\" alt=\"Open In Colab\"/></a>"
      ]
    },
    {
      "cell_type": "markdown",
      "source": [
        "#Resnet-torch-train-last-layer-alone"
      ],
      "metadata": {
        "id": "tCtAyfu9pps_"
      }
    },
    {
      "cell_type": "code",
      "execution_count": 2,
      "metadata": {
        "id": "tpX53jZdpk6o"
      },
      "outputs": [],
      "source": [
        "import torch\n",
        "from torchvision import datasets, transforms\n",
        "from PIL import Image"
      ]
    },
    {
      "cell_type": "markdown",
      "source": [
        "#Download Data Defined Dataset & DaTaLoaders"
      ],
      "metadata": {
        "id": "cbY5XgAYp8Id"
      }
    },
    {
      "cell_type": "code",
      "source": [
        "train_dataset=datasets.CIFAR10(\"data\",train=True, download= True, transform=transforms.ToTensor())\n",
        "test_dataset=datasets.CIFAR10(\"data\",train=False, download= True, transform=transforms.ToTensor())"
      ],
      "metadata": {
        "colab": {
          "base_uri": "https://localhost:8080/"
        },
        "id": "EmlSEXqQrOZ5",
        "outputId": "c1baf726-0359-48b6-a438-7b120765b925"
      },
      "execution_count": 4,
      "outputs": [
        {
          "output_type": "stream",
          "name": "stdout",
          "text": [
            "Downloading https://www.cs.toronto.edu/~kriz/cifar-10-python.tar.gz to data/cifar-10-python.tar.gz\n"
          ]
        },
        {
          "output_type": "stream",
          "name": "stderr",
          "text": [
            "100%|██████████| 170498071/170498071 [00:02<00:00, 73142523.36it/s]\n"
          ]
        },
        {
          "output_type": "stream",
          "name": "stdout",
          "text": [
            "Extracting data/cifar-10-python.tar.gz to data\n",
            "Files already downloaded and verified\n"
          ]
        }
      ]
    },
    {
      "cell_type": "code",
      "source": [
        "len(train_dataset),len(test_dataset)"
      ],
      "metadata": {
        "colab": {
          "base_uri": "https://localhost:8080/"
        },
        "id": "_ohvjjlfqHzV",
        "outputId": "7f39f8fa-f754-4bc7-a0fd-01ac74d07456"
      },
      "execution_count": 5,
      "outputs": [
        {
          "output_type": "execute_result",
          "data": {
            "text/plain": [
              "(50000, 10000)"
            ]
          },
          "metadata": {},
          "execution_count": 5
        }
      ]
    },
    {
      "cell_type": "markdown",
      "source": [
        "#Define DataLoaders"
      ],
      "metadata": {
        "id": "ZKtqSctvsN4s"
      }
    },
    {
      "cell_type": "code",
      "source": [
        "train_dataloader= torch.utils.data.DataLoader(train_dataset,batch_size=32)\n",
        "test_dataloader=  torch.utils.data.DataLoader(test_dataset,batch_size=32)"
      ],
      "metadata": {
        "id": "FlAD28rtr-oM"
      },
      "execution_count": 8,
      "outputs": []
    },
    {
      "cell_type": "code",
      "source": [],
      "metadata": {
        "id": "qCoMbiN8s_Td"
      },
      "execution_count": null,
      "outputs": []
    },
    {
      "cell_type": "code",
      "source": [
        "features.shape, labels.shape"
      ],
      "metadata": {
        "colab": {
          "base_uri": "https://localhost:8080/",
          "height": 141
        },
        "id": "s8uS1j5KssK-",
        "outputId": "72c698ad-b5c5-4d38-c06d-c260afda57e0"
      },
      "execution_count": 9,
      "outputs": [
        {
          "output_type": "error",
          "ename": "NameError",
          "evalue": "name 'features' is not defined",
          "traceback": [
            "\u001b[0;31m---------------------------------------------------------------------------\u001b[0m",
            "\u001b[0;31mNameError\u001b[0m                                 Traceback (most recent call last)",
            "\u001b[0;32m<ipython-input-9-d138875c3a56>\u001b[0m in \u001b[0;36m<cell line: 1>\u001b[0;34m()\u001b[0m\n\u001b[0;32m----> 1\u001b[0;31m \u001b[0mfeatures\u001b[0m\u001b[0;34m.\u001b[0m\u001b[0mshape\u001b[0m\u001b[0;34m,\u001b[0m \u001b[0mlabels\u001b[0m\u001b[0;34m.\u001b[0m\u001b[0mshape\u001b[0m\u001b[0;34m\u001b[0m\u001b[0;34m\u001b[0m\u001b[0m\n\u001b[0m",
            "\u001b[0;31mNameError\u001b[0m: name 'features' is not defined"
          ]
        }
      ]
    },
    {
      "cell_type": "code",
      "source": [
        "import matplotlib.pyplot as plt\n",
        "import numpy as np\n",
        "import torchvision\n",
        "plt.figure(figsize=(8,8))\n",
        "plt.axis(\"off\")\n",
        "plt.title(\"Training images\")\n",
        "plt.imshow(np.transpose(torchvision.utils.make_grid(\n",
        "      features[:64],\n",
        "      padding=2,\n",
        "      normalize=True,\n",
        "      [1,2,0]\n",
        ")))"
      ],
      "metadata": {
        "colab": {
          "base_uri": "https://localhost:8080/",
          "height": 106
        },
        "id": "no7TQ1mks0G8",
        "outputId": "59b445ca-3253-43b2-aa54-db984e3b7d76"
      },
      "execution_count": 12,
      "outputs": [
        {
          "output_type": "error",
          "ename": "SyntaxError",
          "evalue": "positional argument follows keyword argument (<ipython-input-12-fc050427ff92>, line 12)",
          "traceback": [
            "\u001b[0;36m  File \u001b[0;32m\"<ipython-input-12-fc050427ff92>\"\u001b[0;36m, line \u001b[0;32m12\u001b[0m\n\u001b[0;31m    )))\u001b[0m\n\u001b[0m    ^\u001b[0m\n\u001b[0;31mSyntaxError\u001b[0m\u001b[0;31m:\u001b[0m positional argument follows keyword argument\n"
          ]
        }
      ]
    },
    {
      "cell_type": "markdown",
      "source": [
        "#Define model"
      ],
      "metadata": {
        "id": "qNZ2ZiUJuBX8"
      }
    },
    {
      "cell_type": "code",
      "source": [
        "from torchvision.models"
      ],
      "metadata": {
        "id": "Ho8kTYXDuAgh"
      },
      "execution_count": null,
      "outputs": []
    },
    {
      "cell_type": "code",
      "source": [
        "forr i in range(EPOCHS):\n",
        "  model.train()\n",
        "  total_loss=0.0\n",
        ""
      ],
      "metadata": {
        "id": "wDrLkMhLxcTy"
      },
      "execution_count": null,
      "outputs": []
    },
    {
      "cell_type": "markdown",
      "source": [
        "#Include Loss and Accuracy plots"
      ],
      "metadata": {
        "id": "1eUbB9Xd3xkx"
      }
    }
  ]
}