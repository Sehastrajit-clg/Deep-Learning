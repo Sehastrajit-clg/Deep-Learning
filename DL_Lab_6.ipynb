{
  "nbformat": 4,
  "nbformat_minor": 0,
  "metadata": {
    "colab": {
      "provenance": [],
      "gpuType": "T4",
      "include_colab_link": true
    },
    "kernelspec": {
      "name": "python3",
      "display_name": "Python 3"
    },
    "language_info": {
      "name": "python"
    },
    "accelerator": "GPU"
  },
  "cells": [
    {
      "cell_type": "markdown",
      "metadata": {
        "id": "view-in-github",
        "colab_type": "text"
      },
      "source": [
        "<a href=\"https://colab.research.google.com/github/Sehastrajit-clg/Deep-Learning/blob/main/DL_Lab_6.ipynb\" target=\"_parent\"><img src=\"https://colab.research.google.com/assets/colab-badge.svg\" alt=\"Open In Colab\"/></a>"
      ]
    },
    {
      "cell_type": "markdown",
      "source": [
        "#ALEX NET 21BAI1303"
      ],
      "metadata": {
        "id": "IDbILPpEuZco"
      }
    },
    {
      "cell_type": "code",
      "execution_count": 1,
      "metadata": {
        "id": "kEpe_0kRka7q"
      },
      "outputs": [],
      "source": [
        "import torch\n",
        "import torch.nn as nn\n",
        "import torchvision.datasets as dset\n",
        "import torchvision.transforms as transforms\n",
        "from torch.autograd import Variable\n",
        "import torch.nn.functional as F\n",
        "import torch.optim as optim\n",
        "import matplotlib.pyplot as plt\n",
        "from tqdm import tqdm"
      ]
    },
    {
      "cell_type": "code",
      "source": [
        "device = \"cuda\" if torch.cuda.is_available() else \"cpu\"\n",
        "device"
      ],
      "metadata": {
        "colab": {
          "base_uri": "https://localhost:8080/",
          "height": 35
        },
        "id": "LMzJS65Yk-gS",
        "outputId": "96f66a77-813d-4222-8202-b4be6012361d"
      },
      "execution_count": 2,
      "outputs": [
        {
          "output_type": "execute_result",
          "data": {
            "text/plain": [
              "'cuda'"
            ],
            "application/vnd.google.colaboratory.intrinsic+json": {
              "type": "string"
            }
          },
          "metadata": {},
          "execution_count": 2
        }
      ]
    },
    {
      "cell_type": "code",
      "source": [
        "trans = transforms.Compose([transforms.ToTensor(),transforms.Normalize((0.5,),(1.0,))])\n"
      ],
      "metadata": {
        "id": "L80RJhqUlFzh"
      },
      "execution_count": 3,
      "outputs": []
    },
    {
      "cell_type": "code",
      "source": [
        "train = dset.MNIST(root='./data',train=True,transform=trans,download=True)\n",
        "test = dset.MNIST(root='./data',train=False,transform=trans)"
      ],
      "metadata": {
        "id": "oiHLZ8pjlhYR",
        "colab": {
          "base_uri": "https://localhost:8080/"
        },
        "outputId": "59bf4a19-fe26-42bb-96e9-6319b73f185d"
      },
      "execution_count": 4,
      "outputs": [
        {
          "output_type": "stream",
          "name": "stdout",
          "text": [
            "Downloading http://yann.lecun.com/exdb/mnist/train-images-idx3-ubyte.gz\n",
            "Downloading http://yann.lecun.com/exdb/mnist/train-images-idx3-ubyte.gz to ./data/MNIST/raw/train-images-idx3-ubyte.gz\n"
          ]
        },
        {
          "output_type": "stream",
          "name": "stderr",
          "text": [
            "100%|██████████| 9912422/9912422 [00:00<00:00, 103895641.94it/s]\n"
          ]
        },
        {
          "output_type": "stream",
          "name": "stdout",
          "text": [
            "Extracting ./data/MNIST/raw/train-images-idx3-ubyte.gz to ./data/MNIST/raw\n",
            "\n",
            "Downloading http://yann.lecun.com/exdb/mnist/train-labels-idx1-ubyte.gz\n",
            "Downloading http://yann.lecun.com/exdb/mnist/train-labels-idx1-ubyte.gz to ./data/MNIST/raw/train-labels-idx1-ubyte.gz\n"
          ]
        },
        {
          "output_type": "stream",
          "name": "stderr",
          "text": [
            "100%|██████████| 28881/28881 [00:00<00:00, 91285375.90it/s]\n"
          ]
        },
        {
          "output_type": "stream",
          "name": "stdout",
          "text": [
            "Extracting ./data/MNIST/raw/train-labels-idx1-ubyte.gz to ./data/MNIST/raw\n",
            "\n",
            "Downloading http://yann.lecun.com/exdb/mnist/t10k-images-idx3-ubyte.gz\n",
            "Downloading http://yann.lecun.com/exdb/mnist/t10k-images-idx3-ubyte.gz to ./data/MNIST/raw/t10k-images-idx3-ubyte.gz\n"
          ]
        },
        {
          "output_type": "stream",
          "name": "stderr",
          "text": [
            "100%|██████████| 1648877/1648877 [00:00<00:00, 49944691.64it/s]\n"
          ]
        },
        {
          "output_type": "stream",
          "name": "stdout",
          "text": [
            "Extracting ./data/MNIST/raw/t10k-images-idx3-ubyte.gz to ./data/MNIST/raw\n",
            "\n",
            "Downloading http://yann.lecun.com/exdb/mnist/t10k-labels-idx1-ubyte.gz\n",
            "Downloading http://yann.lecun.com/exdb/mnist/t10k-labels-idx1-ubyte.gz to ./data/MNIST/raw/t10k-labels-idx1-ubyte.gz\n"
          ]
        },
        {
          "output_type": "stream",
          "name": "stderr",
          "text": [
            "100%|██████████| 4542/4542 [00:00<00:00, 17938351.01it/s]\n"
          ]
        },
        {
          "output_type": "stream",
          "name": "stdout",
          "text": [
            "Extracting ./data/MNIST/raw/t10k-labels-idx1-ubyte.gz to ./data/MNIST/raw\n",
            "\n"
          ]
        }
      ]
    },
    {
      "cell_type": "code",
      "source": [
        "batch_size=32"
      ],
      "metadata": {
        "id": "w5ymlnGyl-Fi"
      },
      "execution_count": 5,
      "outputs": []
    },
    {
      "cell_type": "code",
      "source": [
        "train_loader = torch.utils.data.DataLoader(dataset=train,batch_size=batch_size,shuffle=True)\n",
        "test_loader = torch.utils.data.DataLoader(dataset=test,batch_size=batch_size,shuffle=False)"
      ],
      "metadata": {
        "id": "PE3VDPa5mDnB"
      },
      "execution_count": 6,
      "outputs": []
    },
    {
      "cell_type": "code",
      "source": [
        "class AlexNet(nn.Module):\n",
        "  def __init__(self,num=10):\n",
        "    super(AlexNet,self).__init__()\n",
        "    self.feature = nn.Sequential(\n",
        "        nn.Conv2d(1,32,kernel_size=5,stride=1,padding=1),\n",
        "        nn.ReLU(inplace=True),\n",
        "        nn.Conv2d(32,64,kernel_size=3,padding=1),\n",
        "        nn.ReLU(inplace=True),\n",
        "        nn.MaxPool2d(kernel_size=2,stride=2),\n",
        "        nn.Conv2d(64,96,kernel_size=3,padding=1),\n",
        "        nn.ReLU(inplace=True),\n",
        "        nn.Conv2d(96,64,kernel_size=3,padding=1),\n",
        "        nn.ReLU(inplace=True),\n",
        "        nn.Conv2d(64,32,kernel_size=3,padding=1),\n",
        "        nn.ReLU(inplace=True),\n",
        "        nn.MaxPool2d(kernel_size=2,stride=1)\n",
        "    )\n",
        "    self.classifier = nn.Sequential(\n",
        "        nn.Dropout(),\n",
        "        nn.Linear(32*12*12,2048),\n",
        "        nn.ReLU(inplace=True),\n",
        "        nn.Dropout(),\n",
        "        nn.Linear(2048,1024),\n",
        "        nn.ReLU(inplace=True),\n",
        "        nn.Linear(1024,num),\n",
        "    )\n",
        "\n",
        "  def forward(self,x):\n",
        "    x = self.feature(x);\n",
        "    x = x.view(-1,32*12*12)\n",
        "    x = self.classifier(x)\n",
        "    return x"
      ],
      "metadata": {
        "id": "T1a4ZaFVmo9B"
      },
      "execution_count": 7,
      "outputs": []
    },
    {
      "cell_type": "code",
      "source": [
        "def accuracy_fn(y_true,y_pred):\n",
        "  correct = torch.eq(y_true,y_pred).sum().item()\n",
        "  acc = (correct/len(y_pred))*100\n",
        "  return acc"
      ],
      "metadata": {
        "id": "j0CV_ldvoh8v"
      },
      "execution_count": 8,
      "outputs": []
    },
    {
      "cell_type": "code",
      "source": [
        "def train(model,data_loader,loss_fn,optimizer,accuracy_fn,train_losses,train_accuracy,device=device):\n",
        "  model.to(device)\n",
        "  model.train()\n",
        "  train_loss,train_acc=0,0\n",
        "  for batch, (X,y) in enumerate(data_loader):\n",
        "    X,y = X.to(device),y.to(device)\n",
        "    optimizer.zero_grad()\n",
        "    y_pred =  model(X)\n",
        "    loss = loss_fn(y_pred,y)\n",
        "    loss.backward()\n",
        "    optimizer.step()\n",
        "    train_loss += loss.item()\n",
        "    train_acc += accuracy_fn(y_true=y,y_pred=y_pred.argmax(dim=1))\n",
        "  train_loss /= len(data_loader)\n",
        "  train_acc /= len(data_loader)\n",
        "  train_losses.append(train_loss)\n",
        "  train_accuracy.append(train_acc)\n",
        "  print(f\"Train Loss : {train_loss:.5f} | Train accuracy : {train_acc : .2f}%\")"
      ],
      "metadata": {
        "id": "BX6WkDY-qM_d"
      },
      "execution_count": 9,
      "outputs": []
    },
    {
      "cell_type": "code",
      "source": [
        "def test(model,data_loader,loss_fn,optimizer,accuracy_fn,test_losses,test_accuracy,device=device):\n",
        "  model.to(device)\n",
        "  model.eval()\n",
        "  test_loss,test_acc = 0,0\n",
        "  with torch.inference_mode():\n",
        "    for X,y in data_loader:\n",
        "      X,y =   X.to(device),y.to(device)\n",
        "      test_pred = model(X)\n",
        "      loss = loss_fn(test_pred,y)\n",
        "      test_loss += loss.item()\n",
        "      test_acc+=accuracy_fn(y_true=y,y_pred=test_pred.argmax(dim=1))\n",
        "  test_loss /= len(data_loader)\n",
        "  test_acc /= len(data_loader)\n",
        "  test_losses.append(test_loss)\n",
        "  test_accuracy.append(test_acc)\n",
        "  print(f\"Test Loss : {test_loss:.5f} | test accuracy : {test_acc : .2f}%\")"
      ],
      "metadata": {
        "id": "pvSLdI7Or1fv"
      },
      "execution_count": 10,
      "outputs": []
    },
    {
      "cell_type": "code",
      "source": [
        "model = AlexNet()\n",
        "print(model)\n",
        "model.to(device)\n",
        "optimizer = optim.SGD(model.parameters(),lr=0.01)\n",
        "loss_fn = nn.CrossEntropyLoss()\n",
        "\n",
        "epochs = 10\n",
        "train_losses=[]\n",
        "train_accuracy=[]\n",
        "test_losses=[]\n",
        "test_accuracy=[]\n",
        "for epoch in tqdm(range(epochs)):\n",
        "  print(f\"Epoch : {epoch}\\n......\")\n",
        "  train(model=model,data_loader = train_loader,loss_fn = loss_fn,optimizer = optimizer,accuracy_fn = accuracy_fn,train_losses = train_losses,train_accuracy = train_accuracy,device=device)\n",
        "  test(model,test_loader,loss_fn,optimizer,accuracy_fn,test_losses,test_accuracy,device=device)"
      ],
      "metadata": {
        "colab": {
          "base_uri": "https://localhost:8080/"
        },
        "id": "_R9Yeu7XtVMP",
        "outputId": "86dbdd80-db16-45b1-de9a-10f252a11189"
      },
      "execution_count": 11,
      "outputs": [
        {
          "output_type": "stream",
          "name": "stdout",
          "text": [
            "AlexNet(\n",
            "  (feature): Sequential(\n",
            "    (0): Conv2d(1, 32, kernel_size=(5, 5), stride=(1, 1), padding=(1, 1))\n",
            "    (1): ReLU(inplace=True)\n",
            "    (2): Conv2d(32, 64, kernel_size=(3, 3), stride=(1, 1), padding=(1, 1))\n",
            "    (3): ReLU(inplace=True)\n",
            "    (4): MaxPool2d(kernel_size=2, stride=2, padding=0, dilation=1, ceil_mode=False)\n",
            "    (5): Conv2d(64, 96, kernel_size=(3, 3), stride=(1, 1), padding=(1, 1))\n",
            "    (6): ReLU(inplace=True)\n",
            "    (7): Conv2d(96, 64, kernel_size=(3, 3), stride=(1, 1), padding=(1, 1))\n",
            "    (8): ReLU(inplace=True)\n",
            "    (9): Conv2d(64, 32, kernel_size=(3, 3), stride=(1, 1), padding=(1, 1))\n",
            "    (10): ReLU(inplace=True)\n",
            "    (11): MaxPool2d(kernel_size=2, stride=1, padding=0, dilation=1, ceil_mode=False)\n",
            "  )\n",
            "  (classifier): Sequential(\n",
            "    (0): Dropout(p=0.5, inplace=False)\n",
            "    (1): Linear(in_features=4608, out_features=2048, bias=True)\n",
            "    (2): ReLU(inplace=True)\n",
            "    (3): Dropout(p=0.5, inplace=False)\n",
            "    (4): Linear(in_features=2048, out_features=1024, bias=True)\n",
            "    (5): ReLU(inplace=True)\n",
            "    (6): Linear(in_features=1024, out_features=10, bias=True)\n",
            "  )\n",
            ")\n"
          ]
        },
        {
          "output_type": "stream",
          "name": "stderr",
          "text": [
            "\r  0%|          | 0/10 [00:00<?, ?it/s]"
          ]
        },
        {
          "output_type": "stream",
          "name": "stdout",
          "text": [
            "Epoch : 0\n",
            "......\n",
            "Train Loss : 2.30142 | Train accuracy :  11.20%\n"
          ]
        },
        {
          "output_type": "stream",
          "name": "stderr",
          "text": [
            "\r 10%|█         | 1/10 [00:36<05:27, 36.42s/it]"
          ]
        },
        {
          "output_type": "stream",
          "name": "stdout",
          "text": [
            "Test Loss : 2.30066 | test accuracy :  11.35%\n",
            "Epoch : 1\n",
            "......\n",
            "Train Loss : 2.30031 | Train accuracy :  11.24%\n"
          ]
        },
        {
          "output_type": "stream",
          "name": "stderr",
          "text": [
            "\r 20%|██        | 2/10 [01:02<04:01, 30.13s/it]"
          ]
        },
        {
          "output_type": "stream",
          "name": "stdout",
          "text": [
            "Test Loss : 2.29764 | test accuracy :  11.35%\n",
            "Epoch : 2\n",
            "......\n",
            "Train Loss : 1.56831 | Train accuracy :  43.57%\n"
          ]
        },
        {
          "output_type": "stream",
          "name": "stderr",
          "text": [
            "\r 30%|███       | 3/10 [01:30<03:26, 29.43s/it]"
          ]
        },
        {
          "output_type": "stream",
          "name": "stdout",
          "text": [
            "Test Loss : 0.23732 | test accuracy :  92.83%\n",
            "Epoch : 3\n",
            "......\n",
            "Train Loss : 0.20522 | Train accuracy :  93.44%\n"
          ]
        },
        {
          "output_type": "stream",
          "name": "stderr",
          "text": [
            "\r 40%|████      | 4/10 [01:56<02:47, 27.92s/it]"
          ]
        },
        {
          "output_type": "stream",
          "name": "stdout",
          "text": [
            "Test Loss : 0.08843 | test accuracy :  96.93%\n",
            "Epoch : 4\n",
            "......\n",
            "Train Loss : 0.11861 | Train accuracy :  96.22%\n"
          ]
        },
        {
          "output_type": "stream",
          "name": "stderr",
          "text": [
            "\r 50%|█████     | 5/10 [02:21<02:15, 27.04s/it]"
          ]
        },
        {
          "output_type": "stream",
          "name": "stdout",
          "text": [
            "Test Loss : 0.05469 | test accuracy :  98.02%\n",
            "Epoch : 5\n",
            "......\n",
            "Train Loss : 0.08993 | Train accuracy :  97.20%\n"
          ]
        },
        {
          "output_type": "stream",
          "name": "stderr",
          "text": [
            "\r 60%|██████    | 6/10 [02:47<01:46, 26.66s/it]"
          ]
        },
        {
          "output_type": "stream",
          "name": "stdout",
          "text": [
            "Test Loss : 0.04943 | test accuracy :  98.30%\n",
            "Epoch : 6\n",
            "......\n",
            "Train Loss : 0.07326 | Train accuracy :  97.67%\n"
          ]
        },
        {
          "output_type": "stream",
          "name": "stderr",
          "text": [
            "\r 70%|███████   | 7/10 [03:16<01:21, 27.25s/it]"
          ]
        },
        {
          "output_type": "stream",
          "name": "stdout",
          "text": [
            "Test Loss : 0.03875 | test accuracy :  98.66%\n",
            "Epoch : 7\n",
            "......\n",
            "Train Loss : 0.06518 | Train accuracy :  97.98%\n"
          ]
        },
        {
          "output_type": "stream",
          "name": "stderr",
          "text": [
            "\r 80%|████████  | 8/10 [03:41<00:53, 26.73s/it]"
          ]
        },
        {
          "output_type": "stream",
          "name": "stdout",
          "text": [
            "Test Loss : 0.03574 | test accuracy :  98.79%\n",
            "Epoch : 8\n",
            "......\n",
            "Train Loss : 0.05700 | Train accuracy :  98.17%\n"
          ]
        },
        {
          "output_type": "stream",
          "name": "stderr",
          "text": [
            "\r 90%|█████████ | 9/10 [04:07<00:26, 26.44s/it]"
          ]
        },
        {
          "output_type": "stream",
          "name": "stdout",
          "text": [
            "Test Loss : 0.03174 | test accuracy :  98.86%\n",
            "Epoch : 9\n",
            "......\n",
            "Train Loss : 0.05274 | Train accuracy :  98.28%\n"
          ]
        },
        {
          "output_type": "stream",
          "name": "stderr",
          "text": [
            "100%|██████████| 10/10 [04:33<00:00, 27.32s/it]"
          ]
        },
        {
          "output_type": "stream",
          "name": "stdout",
          "text": [
            "Test Loss : 0.03244 | test accuracy :  98.95%\n"
          ]
        },
        {
          "output_type": "stream",
          "name": "stderr",
          "text": [
            "\n"
          ]
        }
      ]
    },
    {
      "cell_type": "markdown",
      "source": [
        "#Visulaizing Plots\n"
      ],
      "metadata": {
        "id": "yIjTUe5hDGaG"
      }
    },
    {
      "cell_type": "code",
      "source": [
        "x = range(1,11)"
      ],
      "metadata": {
        "id": "2PiABh2GCFrh"
      },
      "execution_count": 12,
      "outputs": []
    },
    {
      "cell_type": "code",
      "source": [
        "x"
      ],
      "metadata": {
        "colab": {
          "base_uri": "https://localhost:8080/"
        },
        "id": "DLoKvUCcDvKM",
        "outputId": "df82785f-7a41-4efa-e5f1-64a3b83e6724"
      },
      "execution_count": 13,
      "outputs": [
        {
          "output_type": "execute_result",
          "data": {
            "text/plain": [
              "range(1, 11)"
            ]
          },
          "metadata": {},
          "execution_count": 13
        }
      ]
    },
    {
      "cell_type": "markdown",
      "source": [
        "## Train Loss"
      ],
      "metadata": {
        "id": "gxFOvSmjFbz_"
      }
    },
    {
      "cell_type": "code",
      "source": [
        "plt.xlabel(\"Epochs\")\n",
        "plt.ylabel(\"Train_loss\")\n",
        "plt.title(\"Variation of Train loss\")\n",
        "plt.xlim(1,10)\n",
        "plt.plot(x,train_losses)\n",
        "plt.show()"
      ],
      "metadata": {
        "colab": {
          "base_uri": "https://localhost:8080/",
          "height": 472
        },
        "id": "tt8rv7uDDvX9",
        "outputId": "ae265b80-e4a2-4a41-929a-2aeec975ab42"
      },
      "execution_count": 14,
      "outputs": [
        {
          "output_type": "display_data",
          "data": {
            "text/plain": [
              "<Figure size 640x480 with 1 Axes>"
            ],
            "image/png": "[encoded data removed]"
          },
          "metadata": {}
        }
      ]
    },
    {
      "cell_type": "code",
      "source": [
        "plt.xlabel(\"Epochs\")\n",
        "plt.ylabel(\"Train_loss\")\n",
        "plt.title(\"Variation of Train loss\")\n",
        "plt.xlim(1,10)\n",
        "plt.plot(x,train_losses)\n",
        "plt.show()"
      ],
      "metadata": {
        "colab": {
          "base_uri": "https://localhost:8080/",
          "height": 472
        },
        "id": "l2IcGcm4FTkC",
        "outputId": "75d61130-4eb9-4c69-8060-b3a9482366e7"
      },
      "execution_count": 15,
      "outputs": [
        {
          "output_type": "display_data",
          "data": {
            "text/plain": [
              "<Figure size 640x480 with 1 Axes>"
            ],
            "image/png": "[encoded data removed]"
          },
          "metadata": {}
        }
      ]
    },
    {
      "cell_type": "markdown",
      "source": [
        "## Train Accuracy"
      ],
      "metadata": {
        "id": "vYOvTXVLFesr"
      }
    },
    {
      "cell_type": "code",
      "source": [
        "plt.xlabel(\"Epochs\")\n",
        "plt.ylabel(\"Train_Accuracy\")\n",
        "plt.title(\"Variation of Train accuracy\")\n",
        "plt.xlim(1,10)\n",
        "plt.plot(x,train_accuracy)\n",
        "plt.show()"
      ],
      "metadata": {
        "colab": {
          "base_uri": "https://localhost:8080/",
          "height": 472
        },
        "id": "4NjChuRiEjrg",
        "outputId": "cff151bb-1fa0-4ca5-de26-6dbaebe5fb40"
      },
      "execution_count": 16,
      "outputs": [
        {
          "output_type": "display_data",
          "data": {
            "text/plain": [
              "<Figure size 640x480 with 1 Axes>"
            ],
            "image/png": "[encoded data removed]"
          },
          "metadata": {}
        }
      ]
    },
    {
      "cell_type": "markdown",
      "source": [
        "## Test Loss"
      ],
      "metadata": {
        "id": "UVup2myLFrBg"
      }
    },
    {
      "cell_type": "code",
      "source": [
        "plt.xlabel(\"Epochs\")\n",
        "plt.ylabel(\"Test_loss\")\n",
        "plt.title(\"Variation of Test loss\")\n",
        "plt.xlim(1,10)\n",
        "plt.plot(x,test_losses)\n",
        "plt.show()"
      ],
      "metadata": {
        "colab": {
          "base_uri": "https://localhost:8080/",
          "height": 472
        },
        "id": "bjKkvImmFnMk",
        "outputId": "9d371bc0-eb5f-4aac-de30-ec1c2a06a720"
      },
      "execution_count": 17,
      "outputs": [
        {
          "output_type": "display_data",
          "data": {
            "text/plain": [
              "<Figure size 640x480 with 1 Axes>"
            ],
            "image/png": "[encoded data removed]"
          },
          "metadata": {}
        }
      ]
    },
    {
      "cell_type": "markdown",
      "source": [
        "## Test Accuracy"
      ],
      "metadata": {
        "id": "t-9gdauKFwIJ"
      }
    },
    {
      "cell_type": "code",
      "source": [
        "plt.xlabel(\"Epochs\")\n",
        "plt.ylabel(\"Test_accuracy\")\n",
        "plt.title(\"Variation of Test accuracy\")\n",
        "plt.xlim(1,10)\n",
        "plt.plot(x,test_accuracy)\n",
        "plt.show()"
      ],
      "metadata": {
        "colab": {
          "base_uri": "https://localhost:8080/",
          "height": 472
        },
        "id": "ornvJNXDFvgd",
        "outputId": "b079db39-1ab9-4c9c-8e1b-509660275a9e"
      },
      "execution_count": 18,
      "outputs": [
        {
          "output_type": "display_data",
          "data": {
            "text/plain": [
              "<Figure size 640x480 with 1 Axes>"
            ],
            "image/png": "[encoded data removed]"
          },
          "metadata": {}
        }
      ]
    },
    {
      "cell_type": "markdown",
      "source": [
        "#CIFAR 10 Dataset\n"
      ],
      "metadata": {
        "id": "jxh9ajJciNv8"
      }
    },
    {
      "cell_type": "code",
      "source": [
        "cifar_trainset = dset.CIFAR10(root='./data', train=True, download=True, transform=trans)"
      ],
      "metadata": {
        "colab": {
          "base_uri": "https://localhost:8080/"
        },
        "id": "K9TXhkz7iXPu",
        "outputId": "cd7bc891-3885-4360-b796-99bc31ddea1c"
      },
      "execution_count": 19,
      "outputs": [
        {
          "output_type": "stream",
          "name": "stdout",
          "text": [
            "Downloading https://www.cs.toronto.edu/~kriz/cifar-10-python.tar.gz to ./data/cifar-10-python.tar.gz\n"
          ]
        },
        {
          "output_type": "stream",
          "name": "stderr",
          "text": [
            "100%|██████████| 170498071/170498071 [00:03<00:00, 45189629.88it/s]\n"
          ]
        },
        {
          "output_type": "stream",
          "name": "stdout",
          "text": [
            "Extracting ./data/cifar-10-python.tar.gz to ./data\n"
          ]
        }
      ]
    },
    {
      "cell_type": "code",
      "source": [
        "cifar_testset = dset.CIFAR10(root='./data', train=False, transform=trans)"
      ],
      "metadata": {
        "id": "j1JVXBN7i4Mc"
      },
      "execution_count": 20,
      "outputs": []
    },
    {
      "cell_type": "code",
      "source": [
        "class AlexNet_cifar(nn.Module):\n",
        "  def __init__(self,num=10):\n",
        "    super(AlexNet_cifar,self).__init__()\n",
        "    self.feature = nn.Sequential(\n",
        "        nn.Conv2d(3,32,kernel_size=5,stride=1,padding=1),\n",
        "        nn.ReLU(inplace=True),\n",
        "        nn.Conv2d(32,64,kernel_size=3,padding=1),\n",
        "        nn.ReLU(inplace=True),\n",
        "        nn.MaxPool2d(kernel_size=2,stride=2),\n",
        "        nn.Conv2d(64,96,kernel_size=3,padding=1),\n",
        "        nn.ReLU(inplace=True),\n",
        "        nn.Conv2d(96,64,kernel_size=3,padding=1),\n",
        "        nn.ReLU(inplace=True),\n",
        "        nn.Conv2d(64,32,kernel_size=3,padding=1),\n",
        "        nn.ReLU(inplace=True),\n",
        "        nn.MaxPool2d(kernel_size=2,stride=1)\n",
        "    )\n",
        "    self.classifier = nn.Sequential(\n",
        "        nn.Dropout(),\n",
        "        nn.Linear(32*14*14,2048),\n",
        "        nn.ReLU(inplace=True),\n",
        "        nn.Dropout(),\n",
        "        nn.Linear(2048,1024),\n",
        "        nn.ReLU(inplace=True),\n",
        "        nn.Linear(1024,num),\n",
        "    )\n",
        "\n",
        "  def forward(self,x):\n",
        "    x = self.feature(x);\n",
        "    x = x.view(-1,32*14*14)\n",
        "    x = self.classifier(x)\n",
        "    return x"
      ],
      "metadata": {
        "id": "iv0-kBFgj11M"
      },
      "execution_count": 21,
      "outputs": []
    },
    {
      "cell_type": "code",
      "source": [
        "cifar_train_load = torch.utils.data.DataLoader(dataset=cifar_trainset,batch_size=32,shuffle=True)\n",
        "cifar_test_load = torch.utils.data.DataLoader(dataset=cifar_testset,batch_size=32,shuffle=False)"
      ],
      "metadata": {
        "id": "a6P4GDZW19Pr"
      },
      "execution_count": 22,
      "outputs": []
    },
    {
      "cell_type": "code",
      "source": [
        "model = AlexNet_cifar()\n",
        "print(model)\n",
        "model.to(device)\n",
        "optimizer = optim.SGD(model.parameters(),lr=0.01)\n",
        "loss_fn = nn.CrossEntropyLoss()\n",
        "\n",
        "epochs = 10\n",
        "train_losses=[]\n",
        "train_accuracy=[]\n",
        "test_losses=[]\n",
        "test_accuracy=[]\n",
        "for epoch in tqdm(range(epochs)):\n",
        "  print(f\"Epoch : {epoch}\\n......\")\n",
        "  train(model=model,data_loader = cifar_train_load,loss_fn = loss_fn,optimizer = optimizer,accuracy_fn = accuracy_fn,train_losses = train_losses,train_accuracy = train_accuracy,device=device)\n",
        "  test(model,cifar_test_load,loss_fn,optimizer,accuracy_fn,test_losses,test_accuracy,device=device)"
      ],
      "metadata": {
        "colab": {
          "base_uri": "https://localhost:8080/"
        },
        "id": "hCEsnVkb2Q2B",
        "outputId": "5f8692ab-08fc-4841-cecf-e53f334d72c7"
      },
      "execution_count": null,
      "outputs": [
        {
          "output_type": "stream",
          "name": "stdout",
          "text": [
            "AlexNet_cifar(\n",
            "  (feature): Sequential(\n",
            "    (0): Conv2d(3, 32, kernel_size=(5, 5), stride=(1, 1), padding=(1, 1))\n",
            "    (1): ReLU(inplace=True)\n",
            "    (2): Conv2d(32, 64, kernel_size=(3, 3), stride=(1, 1), padding=(1, 1))\n",
            "    (3): ReLU(inplace=True)\n",
            "    (4): MaxPool2d(kernel_size=2, stride=2, padding=0, dilation=1, ceil_mode=False)\n",
            "    (5): Conv2d(64, 96, kernel_size=(3, 3), stride=(1, 1), padding=(1, 1))\n",
            "    (6): ReLU(inplace=True)\n",
            "    (7): Conv2d(96, 64, kernel_size=(3, 3), stride=(1, 1), padding=(1, 1))\n",
            "    (8): ReLU(inplace=True)\n",
            "    (9): Conv2d(64, 32, kernel_size=(3, 3), stride=(1, 1), padding=(1, 1))\n",
            "    (10): ReLU(inplace=True)\n",
            "    (11): MaxPool2d(kernel_size=2, stride=1, padding=0, dilation=1, ceil_mode=False)\n",
            "  )\n",
            "  (classifier): Sequential(\n",
            "    (0): Dropout(p=0.5, inplace=False)\n",
            "    (1): Linear(in_features=6272, out_features=2048, bias=True)\n",
            "    (2): ReLU(inplace=True)\n",
            "    (3): Dropout(p=0.5, inplace=False)\n",
            "    (4): Linear(in_features=2048, out_features=1024, bias=True)\n",
            "    (5): ReLU(inplace=True)\n",
            "    (6): Linear(in_features=1024, out_features=10, bias=True)\n",
            "  )\n",
            ")\n"
          ]
        },
        {
          "output_type": "stream",
          "name": "stderr",
          "text": [
            "\r  0%|          | 0/10 [00:00<?, ?it/s]"
          ]
        },
        {
          "output_type": "stream",
          "name": "stdout",
          "text": [
            "Epoch : 0\n",
            "......\n",
            "Train Loss : 2.30274 | Train accuracy :  9.74%\n"
          ]
        },
        {
          "output_type": "stream",
          "name": "stderr",
          "text": [
            "\r 10%|█         | 1/10 [00:26<03:54, 26.07s/it]"
          ]
        },
        {
          "output_type": "stream",
          "name": "stdout",
          "text": [
            "Test Loss : 2.30250 | test accuracy :  9.98%\n",
            "Epoch : 1\n",
            "......\n",
            "Train Loss : 2.30256 | Train accuracy :  10.12%\n"
          ]
        },
        {
          "output_type": "stream",
          "name": "stderr",
          "text": [
            "\r 20%|██        | 2/10 [00:52<03:28, 26.04s/it]"
          ]
        },
        {
          "output_type": "stream",
          "name": "stdout",
          "text": [
            "Test Loss : 2.30215 | test accuracy :  15.20%\n",
            "Epoch : 2\n",
            "......\n",
            "Train Loss : 2.30111 | Train accuracy :  12.14%\n"
          ]
        },
        {
          "output_type": "stream",
          "name": "stderr",
          "text": [
            "\r 30%|███       | 3/10 [01:17<03:01, 25.88s/it]"
          ]
        },
        {
          "output_type": "stream",
          "name": "stdout",
          "text": [
            "Test Loss : 2.29439 | test accuracy :  19.17%\n",
            "Epoch : 3\n",
            "......\n",
            "Train Loss : 2.07996 | Train accuracy :  23.07%\n"
          ]
        },
        {
          "output_type": "stream",
          "name": "stderr",
          "text": [
            "\r 40%|████      | 4/10 [01:43<02:34, 25.82s/it]"
          ]
        },
        {
          "output_type": "stream",
          "name": "stdout",
          "text": [
            "Test Loss : 1.84885 | test accuracy :  32.12%\n",
            "Epoch : 4\n",
            "......\n",
            "Train Loss : 1.81142 | Train accuracy :  31.81%\n"
          ]
        },
        {
          "output_type": "stream",
          "name": "stderr",
          "text": [
            "\r 50%|█████     | 5/10 [02:09<02:09, 25.81s/it]"
          ]
        },
        {
          "output_type": "stream",
          "name": "stdout",
          "text": [
            "Test Loss : 1.69613 | test accuracy :  36.12%\n",
            "Epoch : 5\n",
            "......\n"
          ]
        }
      ]
    },
    {
      "cell_type": "markdown",
      "source": [
        "#Visulaizing Plots\n"
      ],
      "metadata": {
        "id": "kqn5MjEr4h_O"
      }
    },
    {
      "cell_type": "code",
      "source": [
        "x = range(1,11)"
      ],
      "metadata": {
        "id": "MrBUTvJc4h_W"
      },
      "execution_count": null,
      "outputs": []
    },
    {
      "cell_type": "code",
      "source": [
        "x"
      ],
      "metadata": {
        "id": "KleWB50L4h_W"
      },
      "execution_count": null,
      "outputs": []
    },
    {
      "cell_type": "markdown",
      "source": [
        "## Train Loss"
      ],
      "metadata": {
        "id": "B3ZMXVWF4h_W"
      }
    },
    {
      "cell_type": "code",
      "source": [
        "plt.xlabel(\"Epochs\")\n",
        "plt.ylabel(\"Train_loss\")\n",
        "plt.title(\"Variation of Train loss\")\n",
        "plt.xlim(1,10)\n",
        "plt.plot(x,train_losses)\n",
        "plt.show()"
      ],
      "metadata": {
        "id": "du4pHrMj4h_X"
      },
      "execution_count": null,
      "outputs": []
    },
    {
      "cell_type": "markdown",
      "source": [
        "## Train Accuracy"
      ],
      "metadata": {
        "id": "2TJLN1Og4h_X"
      }
    },
    {
      "cell_type": "code",
      "source": [
        "plt.xlabel(\"Epochs\")\n",
        "plt.ylabel(\"Train_Accuracy\")\n",
        "plt.title(\"Variation of Train accuracy\")\n",
        "plt.xlim(1,10)\n",
        "plt.plot(x,train_accuracy)\n",
        "plt.show()"
      ],
      "metadata": {
        "id": "dAuZNHSd4h_X"
      },
      "execution_count": null,
      "outputs": []
    },
    {
      "cell_type": "markdown",
      "source": [
        "## Test Loss"
      ],
      "metadata": {
        "id": "Hk3eHZQj4h_Y"
      }
    },
    {
      "cell_type": "code",
      "source": [
        "plt.xlabel(\"Epochs\")\n",
        "plt.ylabel(\"Test_loss\")\n",
        "plt.title(\"Variation of Test loss\")\n",
        "plt.xlim(1,10)\n",
        "plt.plot(x,test_losses)\n",
        "plt.show()"
      ],
      "metadata": {
        "id": "txcJndYt4h_Y"
      },
      "execution_count": null,
      "outputs": []
    },
    {
      "cell_type": "code",
      "source": [
        "plt.xlabel(\"Epochs\")\n",
        "plt.ylabel(\"Test_accuracy\")\n",
        "plt.title(\"Variation of Test accuracy\")\n",
        "plt.xlim(1,10)\n",
        "plt.plot(x,test_accuracy)\n",
        "plt.show()"
      ],
      "metadata": {
        "id": "W9UCXBh44h_Y"
      },
      "execution_count": null,
      "outputs": []
    }
  ]
}