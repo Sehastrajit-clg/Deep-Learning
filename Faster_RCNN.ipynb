{
  "nbformat": 4,
  "nbformat_minor": 0,
  "metadata": {
    "colab": {
      "provenance": [],
      "authorship_tag": "ABX9TyPNYfZx8r/T8t6r8LGpqvve",
      "include_colab_link": true
    },
    "kernelspec": {
      "name": "python3",
      "display_name": "Python 3"
    },
    "language_info": {
      "name": "python"
    }
  },
  "cells": [
    {
      "cell_type": "markdown",
      "metadata": {
        "id": "view-in-github",
        "colab_type": "text"
      },
      "source": [
        "<a href=\"https://colab.research.google.com/github/Sehastrajit-clg/Deep-Learning/blob/main/Faster_RCNN.ipynb\" target=\"_parent\"><img src=\"https://colab.research.google.com/assets/colab-badge.svg\" alt=\"Open In Colab\"/></a>"
      ]
    },
    {
      "cell_type": "code",
      "execution_count": 16,
      "metadata": {
        "id": "5BIv5FYcwdZD"
      },
      "outputs": [],
      "source": [
        "import torchvision.transforms as transform\n",
        "from torchvision.models.detection import fasterrcnn_resnet50_fpn\n",
        "from PIL import Image\n",
        "import matplotlib.pyplot as plt\n",
        "import matplotlib.patches as patches"
      ]
    },
    {
      "cell_type": "code",
      "source": [
        "object_detection_model = fasterrcnn_resnet50_fpn(pretrained = True)\n",
        "object_detection_model.eval();"
      ],
      "metadata": {
        "id": "nFw-Ymt-xRNk"
      },
      "execution_count": 3,
      "outputs": []
    },
    {
      "cell_type": "code",
      "source": [
        "test_img=Image.open(\"test_img1.jpeg\")"
      ],
      "metadata": {
        "id": "m5eagEP_xduJ"
      },
      "execution_count": 7,
      "outputs": []
    },
    {
      "cell_type": "code",
      "source": [
        "width,height = test_img.size\n",
        "print(\"The dimensions of the image are {width} x {height} \") #format the variables"
      ],
      "metadata": {
        "colab": {
          "base_uri": "https://localhost:8080/"
        },
        "id": "XBhgShEmx2l9",
        "outputId": "01a137ec-9646-4155-fad7-4242d436c8ce"
      },
      "execution_count": 8,
      "outputs": [
        {
          "output_type": "stream",
          "name": "stdout",
          "text": [
            "The dimensions of the image are {width} x {height} \n"
          ]
        }
      ]
    },
    {
      "cell_type": "code",
      "source": [
        "transform = transforms.Compose([\n",
        "    transforms.ToTensor(),\n",
        "])"
      ],
      "metadata": {
        "id": "LFggjuLcx6V1"
      },
      "execution_count": 19,
      "outputs": []
    },
    {
      "cell_type": "code",
      "source": [
        "test_img_tensor = transform(test_img)\n",
        "test_img_tensor"
      ],
      "metadata": {
        "colab": {
          "base_uri": "https://localhost:8080/"
        },
        "id": "B-GBDGqtypeo",
        "outputId": "f728e606-12d1-4371-df8d-c4e18f3daeb6"
      },
      "execution_count": 20,
      "outputs": [
        {
          "output_type": "execute_result",
          "data": {
            "text/plain": [
              "tensor([[[0.3451, 0.3608, 0.3647,  ..., 0.0039, 0.0039, 0.0039],\n",
              "         [0.3569, 0.3725, 0.3725,  ..., 0.0039, 0.0039, 0.0039],\n",
              "         [0.3529, 0.3686, 0.3725,  ..., 0.0039, 0.0039, 0.0039],\n",
              "         ...,\n",
              "         [0.2863, 0.2980, 0.3098,  ..., 0.1216, 0.1176, 0.1137],\n",
              "         [0.2863, 0.2980, 0.3098,  ..., 0.1216, 0.1176, 0.1137],\n",
              "         [0.2863, 0.3020, 0.3098,  ..., 0.1216, 0.1176, 0.1137]],\n",
              "\n",
              "        [[0.3216, 0.3373, 0.3373,  ..., 0.0039, 0.0039, 0.0039],\n",
              "         [0.3333, 0.3490, 0.3451,  ..., 0.0039, 0.0039, 0.0039],\n",
              "         [0.3294, 0.3451, 0.3451,  ..., 0.0039, 0.0039, 0.0039],\n",
              "         ...,\n",
              "         [0.1922, 0.1961, 0.2078,  ..., 0.0980, 0.0941, 0.0902],\n",
              "         [0.1922, 0.1961, 0.2078,  ..., 0.0980, 0.0941, 0.0902],\n",
              "         [0.1922, 0.2000, 0.2078,  ..., 0.0980, 0.0941, 0.0902]],\n",
              "\n",
              "        [[0.2745, 0.2902, 0.2980,  ..., 0.0039, 0.0039, 0.0039],\n",
              "         [0.2863, 0.3020, 0.3059,  ..., 0.0039, 0.0039, 0.0039],\n",
              "         [0.2824, 0.2980, 0.3059,  ..., 0.0039, 0.0039, 0.0039],\n",
              "         ...,\n",
              "         [0.0902, 0.0980, 0.1098,  ..., 0.0980, 0.0941, 0.0902],\n",
              "         [0.0902, 0.0980, 0.1098,  ..., 0.0980, 0.0941, 0.0902],\n",
              "         [0.0902, 0.1020, 0.1098,  ..., 0.0980, 0.0941, 0.0902]]])"
            ]
          },
          "metadata": {},
          "execution_count": 20
        }
      ]
    },
    {
      "cell_type": "code",
      "source": [
        "test_img_tensor.shape"
      ],
      "metadata": {
        "colab": {
          "base_uri": "https://localhost:8080/"
        },
        "id": "p89ECsATy7Eb",
        "outputId": "85536cd2-2f91-4b62-8999-42f5bd489f9f"
      },
      "execution_count": 21,
      "outputs": [
        {
          "output_type": "execute_result",
          "data": {
            "text/plain": [
              "torch.Size([3, 408, 612])"
            ]
          },
          "metadata": {},
          "execution_count": 21
        }
      ]
    },
    {
      "cell_type": "code",
      "source": [
        "test_img_tensor = test_img_tensor.unsqueeze(dim=0)\n",
        "test_img_tensor.shape"
      ],
      "metadata": {
        "colab": {
          "base_uri": "https://localhost:8080/"
        },
        "id": "59dnQZYCzG4M",
        "outputId": "0c020344-f762-4535-c2a4-5aad294a1864"
      },
      "execution_count": 22,
      "outputs": [
        {
          "output_type": "execute_result",
          "data": {
            "text/plain": [
              "torch.Size([1, 3, 408, 612])"
            ]
          },
          "metadata": {},
          "execution_count": 22
        }
      ]
    },
    {
      "cell_type": "code",
      "source": [
        "preds=object_detection_model(test_img_tensor)\n",
        "preds"
      ],
      "metadata": {
        "colab": {
          "base_uri": "https://localhost:8080/"
        },
        "id": "QzCHIgIMzUyU",
        "outputId": "f60a1456-99b4-4d48-fccc-1329ca63203c"
      },
      "execution_count": 24,
      "outputs": [
        {
          "output_type": "execute_result",
          "data": {
            "text/plain": [
              "[{'boxes': tensor([[233.1602,  90.1161, 431.7190, 378.3868],\n",
              "          [132.6686,  28.4824, 266.2517, 372.5306],\n",
              "          [132.4319,  33.1351, 265.7533, 358.0821],\n",
              "          [165.9605,  50.4177, 391.7908, 377.0103],\n",
              "          [ 91.6329, 339.3947, 577.6117, 404.5926],\n",
              "          [110.4094,  15.6221, 365.4839, 386.3339],\n",
              "          [ 75.3653,  43.4748, 465.1440, 384.1267],\n",
              "          [449.6492, 138.6353, 511.3659, 230.7051],\n",
              "          [100.3299, 336.6239, 575.0822, 403.4710],\n",
              "          [ 76.5190, 311.2625, 602.2322, 406.8243],\n",
              "          [ 86.3867,  53.3879, 464.1670, 401.0291],\n",
              "          [432.8774,  57.3134, 553.9104, 231.8739],\n",
              "          [ 58.9642, 189.5839, 603.5837, 405.9199]], grad_fn=<StackBackward0>),\n",
              "  'labels': tensor([18, 17, 24, 17, 81, 62, 15, 62,  3, 15, 63,  1, 15]),\n",
              "  'scores': tensor([0.9957, 0.9864, 0.4003, 0.1255, 0.1179, 0.1073, 0.1053, 0.0720, 0.0707,\n",
              "          0.0690, 0.0686, 0.0583, 0.0542], grad_fn=<IndexBackward0>)}]"
            ]
          },
          "metadata": {},
          "execution_count": 24
        }
      ]
    },
    {
      "cell_type": "code",
      "source": [
        "img = test_img_tensor.squeeze().detach().cpu().numpy()\n",
        "img = img.transpose(1,2,0)\n",
        "CONFIDENCE_THRESHOLD =0.8\n",
        "fig,ax = ply.subplots(1,figsize=[12,9])\n",
        "\n",
        "ax.inshow(img)\n",
        "for box"
      ],
      "metadata": {
        "id": "5dz-HECB0U2d"
      },
      "execution_count": null,
      "outputs": []
    }
  ]
}